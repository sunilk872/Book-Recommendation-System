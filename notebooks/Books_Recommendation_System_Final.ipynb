{
  "cells": [
    {
      "cell_type": "markdown",
      "id": "s_9mqgZ5ia-N",
      "metadata": {
        "id": "s_9mqgZ5ia-N"
      },
      "source": [
        "#**Books Recommendation System**"
      ]
    },
    {
      "cell_type": "code",
      "execution_count": 98,
      "id": "1b94fa0b",
      "metadata": {
        "id": "1b94fa0b"
      },
      "outputs": [],
      "source": [
        "import pandas as pd\n",
        "import numpy as np\n",
        "import seaborn as sns\n",
        "import matplotlib.pyplot as plt\n",
        "\n",
        "import warnings\n",
        "warnings.filterwarnings('ignore')##importing the necessary libarary"
      ]
    },
    {
      "cell_type": "markdown",
      "id": "ddfae709",
      "metadata": {
        "id": "ddfae709"
      },
      "source": [
        "##Books csv"
      ]
    },
    {
      "cell_type": "code",
      "execution_count": 99,
      "id": "06efcea8",
      "metadata": {
        "colab": {
          "base_uri": "https://localhost:8080/",
          "height": 434
        },
        "id": "06efcea8",
        "outputId": "ca48b227-62a3-43c8-b0ed-d07d6e93dba0"
      },
      "outputs": [
        {
          "data": {
            "text/html": [
              "<div>\n",
              "<style scoped>\n",
              "    .dataframe tbody tr th:only-of-type {\n",
              "        vertical-align: middle;\n",
              "    }\n",
              "\n",
              "    .dataframe tbody tr th {\n",
              "        vertical-align: top;\n",
              "    }\n",
              "\n",
              "    .dataframe thead th {\n",
              "        text-align: right;\n",
              "    }\n",
              "</style>\n",
              "<table border=\"1\" class=\"dataframe\">\n",
              "  <thead>\n",
              "    <tr style=\"text-align: right;\">\n",
              "      <th></th>\n",
              "      <th>ISBN</th>\n",
              "      <th>Book-Title</th>\n",
              "      <th>Book-Author</th>\n",
              "      <th>Year-Of-Publication</th>\n",
              "      <th>Publisher</th>\n",
              "      <th>Image-URL-S</th>\n",
              "      <th>Image-URL-M</th>\n",
              "      <th>Image-URL-L</th>\n",
              "    </tr>\n",
              "  </thead>\n",
              "  <tbody>\n",
              "    <tr>\n",
              "      <th>0</th>\n",
              "      <td>0195153448</td>\n",
              "      <td>Classical Mythology</td>\n",
              "      <td>Mark P. O. Morford</td>\n",
              "      <td>2002</td>\n",
              "      <td>Oxford University Press</td>\n",
              "      <td>http://images.amazon.com/images/P/0195153448.0...</td>\n",
              "      <td>http://images.amazon.com/images/P/0195153448.0...</td>\n",
              "      <td>http://images.amazon.com/images/P/0195153448.0...</td>\n",
              "    </tr>\n",
              "    <tr>\n",
              "      <th>1</th>\n",
              "      <td>0002005018</td>\n",
              "      <td>Clara Callan</td>\n",
              "      <td>Richard Bruce Wright</td>\n",
              "      <td>2001</td>\n",
              "      <td>HarperFlamingo Canada</td>\n",
              "      <td>http://images.amazon.com/images/P/0002005018.0...</td>\n",
              "      <td>http://images.amazon.com/images/P/0002005018.0...</td>\n",
              "      <td>http://images.amazon.com/images/P/0002005018.0...</td>\n",
              "    </tr>\n",
              "    <tr>\n",
              "      <th>2</th>\n",
              "      <td>0060973129</td>\n",
              "      <td>Decision in Normandy</td>\n",
              "      <td>Carlo D'Este</td>\n",
              "      <td>1991</td>\n",
              "      <td>HarperPerennial</td>\n",
              "      <td>http://images.amazon.com/images/P/0060973129.0...</td>\n",
              "      <td>http://images.amazon.com/images/P/0060973129.0...</td>\n",
              "      <td>http://images.amazon.com/images/P/0060973129.0...</td>\n",
              "    </tr>\n",
              "    <tr>\n",
              "      <th>3</th>\n",
              "      <td>0374157065</td>\n",
              "      <td>Flu: The Story of the Great Influenza Pandemic...</td>\n",
              "      <td>Gina Bari Kolata</td>\n",
              "      <td>1999</td>\n",
              "      <td>Farrar Straus Giroux</td>\n",
              "      <td>http://images.amazon.com/images/P/0374157065.0...</td>\n",
              "      <td>http://images.amazon.com/images/P/0374157065.0...</td>\n",
              "      <td>http://images.amazon.com/images/P/0374157065.0...</td>\n",
              "    </tr>\n",
              "    <tr>\n",
              "      <th>4</th>\n",
              "      <td>0393045218</td>\n",
              "      <td>The Mummies of Urumchi</td>\n",
              "      <td>E. J. W. Barber</td>\n",
              "      <td>1999</td>\n",
              "      <td>W. W. Norton &amp;amp; Company</td>\n",
              "      <td>http://images.amazon.com/images/P/0393045218.0...</td>\n",
              "      <td>http://images.amazon.com/images/P/0393045218.0...</td>\n",
              "      <td>http://images.amazon.com/images/P/0393045218.0...</td>\n",
              "    </tr>\n",
              "  </tbody>\n",
              "</table>\n",
              "</div>"
            ],
            "text/plain": [
              "         ISBN                                         Book-Title  \\\n",
              "0  0195153448                                Classical Mythology   \n",
              "1  0002005018                                       Clara Callan   \n",
              "2  0060973129                               Decision in Normandy   \n",
              "3  0374157065  Flu: The Story of the Great Influenza Pandemic...   \n",
              "4  0393045218                             The Mummies of Urumchi   \n",
              "\n",
              "            Book-Author Year-Of-Publication                   Publisher  \\\n",
              "0    Mark P. O. Morford                2002     Oxford University Press   \n",
              "1  Richard Bruce Wright                2001       HarperFlamingo Canada   \n",
              "2          Carlo D'Este                1991             HarperPerennial   \n",
              "3      Gina Bari Kolata                1999        Farrar Straus Giroux   \n",
              "4       E. J. W. Barber                1999  W. W. Norton &amp; Company   \n",
              "\n",
              "                                         Image-URL-S  \\\n",
              "0  http://images.amazon.com/images/P/0195153448.0...   \n",
              "1  http://images.amazon.com/images/P/0002005018.0...   \n",
              "2  http://images.amazon.com/images/P/0060973129.0...   \n",
              "3  http://images.amazon.com/images/P/0374157065.0...   \n",
              "4  http://images.amazon.com/images/P/0393045218.0...   \n",
              "\n",
              "                                         Image-URL-M  \\\n",
              "0  http://images.amazon.com/images/P/0195153448.0...   \n",
              "1  http://images.amazon.com/images/P/0002005018.0...   \n",
              "2  http://images.amazon.com/images/P/0060973129.0...   \n",
              "3  http://images.amazon.com/images/P/0374157065.0...   \n",
              "4  http://images.amazon.com/images/P/0393045218.0...   \n",
              "\n",
              "                                         Image-URL-L  \n",
              "0  http://images.amazon.com/images/P/0195153448.0...  \n",
              "1  http://images.amazon.com/images/P/0002005018.0...  \n",
              "2  http://images.amazon.com/images/P/0060973129.0...  \n",
              "3  http://images.amazon.com/images/P/0374157065.0...  \n",
              "4  http://images.amazon.com/images/P/0393045218.0...  "
            ]
          },
          "execution_count": 99,
          "metadata": {},
          "output_type": "execute_result"
        }
      ],
      "source": [
        "book=pd.read_csv('Books.csv', encoding='latin1')##reading the books dataset\n",
        "book.head()"
      ]
    },
    {
      "cell_type": "code",
      "execution_count": 100,
      "id": "8763f27f",
      "metadata": {
        "colab": {
          "base_uri": "https://localhost:8080/",
          "height": 206
        },
        "id": "8763f27f",
        "outputId": "4aefc97c-6ff4-4aeb-807d-6da44a05aad4"
      },
      "outputs": [
        {
          "data": {
            "text/html": [
              "<div>\n",
              "<style scoped>\n",
              "    .dataframe tbody tr th:only-of-type {\n",
              "        vertical-align: middle;\n",
              "    }\n",
              "\n",
              "    .dataframe tbody tr th {\n",
              "        vertical-align: top;\n",
              "    }\n",
              "\n",
              "    .dataframe thead th {\n",
              "        text-align: right;\n",
              "    }\n",
              "</style>\n",
              "<table border=\"1\" class=\"dataframe\">\n",
              "  <thead>\n",
              "    <tr style=\"text-align: right;\">\n",
              "      <th></th>\n",
              "      <th>User-ID</th>\n",
              "      <th>ISBN</th>\n",
              "      <th>Book-Rating</th>\n",
              "    </tr>\n",
              "  </thead>\n",
              "  <tbody>\n",
              "    <tr>\n",
              "      <th>0</th>\n",
              "      <td>276725</td>\n",
              "      <td>034545104X</td>\n",
              "      <td>0</td>\n",
              "    </tr>\n",
              "    <tr>\n",
              "      <th>1</th>\n",
              "      <td>276726</td>\n",
              "      <td>0155061224</td>\n",
              "      <td>5</td>\n",
              "    </tr>\n",
              "    <tr>\n",
              "      <th>2</th>\n",
              "      <td>276727</td>\n",
              "      <td>0446520802</td>\n",
              "      <td>0</td>\n",
              "    </tr>\n",
              "    <tr>\n",
              "      <th>3</th>\n",
              "      <td>276729</td>\n",
              "      <td>052165615X</td>\n",
              "      <td>3</td>\n",
              "    </tr>\n",
              "    <tr>\n",
              "      <th>4</th>\n",
              "      <td>276729</td>\n",
              "      <td>0521795028</td>\n",
              "      <td>6</td>\n",
              "    </tr>\n",
              "  </tbody>\n",
              "</table>\n",
              "</div>"
            ],
            "text/plain": [
              "   User-ID        ISBN  Book-Rating\n",
              "0   276725  034545104X            0\n",
              "1   276726  0155061224            5\n",
              "2   276727  0446520802            0\n",
              "3   276729  052165615X            3\n",
              "4   276729  0521795028            6"
            ]
          },
          "execution_count": 100,
          "metadata": {},
          "output_type": "execute_result"
        }
      ],
      "source": [
        "rating = pd.read_csv('Ratings.csv',encoding = 'latin1')##reading the rating dataset\n",
        "rating.head()"
      ]
    },
    {
      "cell_type": "code",
      "execution_count": 101,
      "id": "46e8f2ed",
      "metadata": {
        "id": "46e8f2ed"
      },
      "outputs": [],
      "source": [
        "user = pd.read_csv('Users.csv',encoding='latin1')##reading the user dataset"
      ]
    },
    {
      "cell_type": "code",
      "execution_count": 102,
      "id": "47d47d76",
      "metadata": {
        "colab": {
          "base_uri": "https://localhost:8080/",
          "height": 206
        },
        "id": "47d47d76",
        "outputId": "37bfbcfc-e526-40b8-fcaf-787610eb109d"
      },
      "outputs": [
        {
          "data": {
            "text/html": [
              "<div>\n",
              "<style scoped>\n",
              "    .dataframe tbody tr th:only-of-type {\n",
              "        vertical-align: middle;\n",
              "    }\n",
              "\n",
              "    .dataframe tbody tr th {\n",
              "        vertical-align: top;\n",
              "    }\n",
              "\n",
              "    .dataframe thead th {\n",
              "        text-align: right;\n",
              "    }\n",
              "</style>\n",
              "<table border=\"1\" class=\"dataframe\">\n",
              "  <thead>\n",
              "    <tr style=\"text-align: right;\">\n",
              "      <th></th>\n",
              "      <th>User-ID</th>\n",
              "      <th>Location</th>\n",
              "      <th>Age</th>\n",
              "    </tr>\n",
              "  </thead>\n",
              "  <tbody>\n",
              "    <tr>\n",
              "      <th>0</th>\n",
              "      <td>1</td>\n",
              "      <td>nyc, new york, usa</td>\n",
              "      <td>NaN</td>\n",
              "    </tr>\n",
              "    <tr>\n",
              "      <th>1</th>\n",
              "      <td>2</td>\n",
              "      <td>stockton, california, usa</td>\n",
              "      <td>18.0</td>\n",
              "    </tr>\n",
              "    <tr>\n",
              "      <th>2</th>\n",
              "      <td>3</td>\n",
              "      <td>moscow, yukon territory, russia</td>\n",
              "      <td>NaN</td>\n",
              "    </tr>\n",
              "    <tr>\n",
              "      <th>3</th>\n",
              "      <td>4</td>\n",
              "      <td>porto, v.n.gaia, portugal</td>\n",
              "      <td>17.0</td>\n",
              "    </tr>\n",
              "    <tr>\n",
              "      <th>4</th>\n",
              "      <td>5</td>\n",
              "      <td>farnborough, hants, united kingdom</td>\n",
              "      <td>NaN</td>\n",
              "    </tr>\n",
              "  </tbody>\n",
              "</table>\n",
              "</div>"
            ],
            "text/plain": [
              "   User-ID                            Location   Age\n",
              "0        1                  nyc, new york, usa   NaN\n",
              "1        2           stockton, california, usa  18.0\n",
              "2        3     moscow, yukon territory, russia   NaN\n",
              "3        4           porto, v.n.gaia, portugal  17.0\n",
              "4        5  farnborough, hants, united kingdom   NaN"
            ]
          },
          "execution_count": 102,
          "metadata": {},
          "output_type": "execute_result"
        }
      ],
      "source": [
        "user.head()"
      ]
    },
    {
      "cell_type": "code",
      "execution_count": 103,
      "id": "3cae5e50",
      "metadata": {
        "colab": {
          "base_uri": "https://localhost:8080/"
        },
        "id": "3cae5e50",
        "outputId": "7f52c917-bf22-4cf7-ee18-a0455c77c4f0"
      },
      "outputs": [
        {
          "name": "stdout",
          "output_type": "stream",
          "text": [
            "<class 'pandas.core.frame.DataFrame'>\n",
            "RangeIndex: 271360 entries, 0 to 271359\n",
            "Data columns (total 8 columns):\n",
            " #   Column               Non-Null Count   Dtype \n",
            "---  ------               --------------   ----- \n",
            " 0   ISBN                 271360 non-null  object\n",
            " 1   Book-Title           271360 non-null  object\n",
            " 2   Book-Author          271358 non-null  object\n",
            " 3   Year-Of-Publication  271360 non-null  object\n",
            " 4   Publisher            271358 non-null  object\n",
            " 5   Image-URL-S          271360 non-null  object\n",
            " 6   Image-URL-M          271360 non-null  object\n",
            " 7   Image-URL-L          271357 non-null  object\n",
            "dtypes: object(8)\n",
            "memory usage: 16.6+ MB\n"
          ]
        }
      ],
      "source": [
        "book.info()"
      ]
    },
    {
      "cell_type": "code",
      "execution_count": 104,
      "id": "57989d6e",
      "metadata": {
        "id": "57989d6e"
      },
      "outputs": [],
      "source": [
        "book_images_columns = book.drop(['Book-Title','Book-Author','Year-Of-Publication','Publisher'],axis=1)##Assigening the image url fo the each book to the other variables in case if we need it at the later case"
      ]
    },
    {
      "cell_type": "code",
      "execution_count": 105,
      "id": "6f2ce7b5",
      "metadata": {
        "colab": {
          "base_uri": "https://localhost:8080/",
          "height": 443
        },
        "id": "6f2ce7b5",
        "outputId": "4aceeea2-55fb-45e2-af9b-0e05ca690abb"
      },
      "outputs": [
        {
          "data": {
            "text/html": [
              "<div>\n",
              "<style scoped>\n",
              "    .dataframe tbody tr th:only-of-type {\n",
              "        vertical-align: middle;\n",
              "    }\n",
              "\n",
              "    .dataframe tbody tr th {\n",
              "        vertical-align: top;\n",
              "    }\n",
              "\n",
              "    .dataframe thead th {\n",
              "        text-align: right;\n",
              "    }\n",
              "</style>\n",
              "<table border=\"1\" class=\"dataframe\">\n",
              "  <thead>\n",
              "    <tr style=\"text-align: right;\">\n",
              "      <th></th>\n",
              "      <th>ISBN</th>\n",
              "      <th>Image-URL-S</th>\n",
              "      <th>Image-URL-M</th>\n",
              "      <th>Image-URL-L</th>\n",
              "    </tr>\n",
              "  </thead>\n",
              "  <tbody>\n",
              "    <tr>\n",
              "      <th>0</th>\n",
              "      <td>0195153448</td>\n",
              "      <td>http://images.amazon.com/images/P/0195153448.0...</td>\n",
              "      <td>http://images.amazon.com/images/P/0195153448.0...</td>\n",
              "      <td>http://images.amazon.com/images/P/0195153448.0...</td>\n",
              "    </tr>\n",
              "    <tr>\n",
              "      <th>1</th>\n",
              "      <td>0002005018</td>\n",
              "      <td>http://images.amazon.com/images/P/0002005018.0...</td>\n",
              "      <td>http://images.amazon.com/images/P/0002005018.0...</td>\n",
              "      <td>http://images.amazon.com/images/P/0002005018.0...</td>\n",
              "    </tr>\n",
              "    <tr>\n",
              "      <th>2</th>\n",
              "      <td>0060973129</td>\n",
              "      <td>http://images.amazon.com/images/P/0060973129.0...</td>\n",
              "      <td>http://images.amazon.com/images/P/0060973129.0...</td>\n",
              "      <td>http://images.amazon.com/images/P/0060973129.0...</td>\n",
              "    </tr>\n",
              "    <tr>\n",
              "      <th>3</th>\n",
              "      <td>0374157065</td>\n",
              "      <td>http://images.amazon.com/images/P/0374157065.0...</td>\n",
              "      <td>http://images.amazon.com/images/P/0374157065.0...</td>\n",
              "      <td>http://images.amazon.com/images/P/0374157065.0...</td>\n",
              "    </tr>\n",
              "    <tr>\n",
              "      <th>4</th>\n",
              "      <td>0393045218</td>\n",
              "      <td>http://images.amazon.com/images/P/0393045218.0...</td>\n",
              "      <td>http://images.amazon.com/images/P/0393045218.0...</td>\n",
              "      <td>http://images.amazon.com/images/P/0393045218.0...</td>\n",
              "    </tr>\n",
              "    <tr>\n",
              "      <th>...</th>\n",
              "      <td>...</td>\n",
              "      <td>...</td>\n",
              "      <td>...</td>\n",
              "      <td>...</td>\n",
              "    </tr>\n",
              "    <tr>\n",
              "      <th>271355</th>\n",
              "      <td>0440400988</td>\n",
              "      <td>http://images.amazon.com/images/P/0440400988.0...</td>\n",
              "      <td>http://images.amazon.com/images/P/0440400988.0...</td>\n",
              "      <td>http://images.amazon.com/images/P/0440400988.0...</td>\n",
              "    </tr>\n",
              "    <tr>\n",
              "      <th>271356</th>\n",
              "      <td>0525447644</td>\n",
              "      <td>http://images.amazon.com/images/P/0525447644.0...</td>\n",
              "      <td>http://images.amazon.com/images/P/0525447644.0...</td>\n",
              "      <td>http://images.amazon.com/images/P/0525447644.0...</td>\n",
              "    </tr>\n",
              "    <tr>\n",
              "      <th>271357</th>\n",
              "      <td>006008667X</td>\n",
              "      <td>http://images.amazon.com/images/P/006008667X.0...</td>\n",
              "      <td>http://images.amazon.com/images/P/006008667X.0...</td>\n",
              "      <td>http://images.amazon.com/images/P/006008667X.0...</td>\n",
              "    </tr>\n",
              "    <tr>\n",
              "      <th>271358</th>\n",
              "      <td>0192126040</td>\n",
              "      <td>http://images.amazon.com/images/P/0192126040.0...</td>\n",
              "      <td>http://images.amazon.com/images/P/0192126040.0...</td>\n",
              "      <td>http://images.amazon.com/images/P/0192126040.0...</td>\n",
              "    </tr>\n",
              "    <tr>\n",
              "      <th>271359</th>\n",
              "      <td>0767409752</td>\n",
              "      <td>http://images.amazon.com/images/P/0767409752.0...</td>\n",
              "      <td>http://images.amazon.com/images/P/0767409752.0...</td>\n",
              "      <td>http://images.amazon.com/images/P/0767409752.0...</td>\n",
              "    </tr>\n",
              "  </tbody>\n",
              "</table>\n",
              "<p>271360 rows × 4 columns</p>\n",
              "</div>"
            ],
            "text/plain": [
              "              ISBN                                        Image-URL-S  \\\n",
              "0       0195153448  http://images.amazon.com/images/P/0195153448.0...   \n",
              "1       0002005018  http://images.amazon.com/images/P/0002005018.0...   \n",
              "2       0060973129  http://images.amazon.com/images/P/0060973129.0...   \n",
              "3       0374157065  http://images.amazon.com/images/P/0374157065.0...   \n",
              "4       0393045218  http://images.amazon.com/images/P/0393045218.0...   \n",
              "...            ...                                                ...   \n",
              "271355  0440400988  http://images.amazon.com/images/P/0440400988.0...   \n",
              "271356  0525447644  http://images.amazon.com/images/P/0525447644.0...   \n",
              "271357  006008667X  http://images.amazon.com/images/P/006008667X.0...   \n",
              "271358  0192126040  http://images.amazon.com/images/P/0192126040.0...   \n",
              "271359  0767409752  http://images.amazon.com/images/P/0767409752.0...   \n",
              "\n",
              "                                              Image-URL-M  \\\n",
              "0       http://images.amazon.com/images/P/0195153448.0...   \n",
              "1       http://images.amazon.com/images/P/0002005018.0...   \n",
              "2       http://images.amazon.com/images/P/0060973129.0...   \n",
              "3       http://images.amazon.com/images/P/0374157065.0...   \n",
              "4       http://images.amazon.com/images/P/0393045218.0...   \n",
              "...                                                   ...   \n",
              "271355  http://images.amazon.com/images/P/0440400988.0...   \n",
              "271356  http://images.amazon.com/images/P/0525447644.0...   \n",
              "271357  http://images.amazon.com/images/P/006008667X.0...   \n",
              "271358  http://images.amazon.com/images/P/0192126040.0...   \n",
              "271359  http://images.amazon.com/images/P/0767409752.0...   \n",
              "\n",
              "                                              Image-URL-L  \n",
              "0       http://images.amazon.com/images/P/0195153448.0...  \n",
              "1       http://images.amazon.com/images/P/0002005018.0...  \n",
              "2       http://images.amazon.com/images/P/0060973129.0...  \n",
              "3       http://images.amazon.com/images/P/0374157065.0...  \n",
              "4       http://images.amazon.com/images/P/0393045218.0...  \n",
              "...                                                   ...  \n",
              "271355  http://images.amazon.com/images/P/0440400988.0...  \n",
              "271356  http://images.amazon.com/images/P/0525447644.0...  \n",
              "271357  http://images.amazon.com/images/P/006008667X.0...  \n",
              "271358  http://images.amazon.com/images/P/0192126040.0...  \n",
              "271359  http://images.amazon.com/images/P/0767409752.0...  \n",
              "\n",
              "[271360 rows x 4 columns]"
            ]
          },
          "execution_count": 105,
          "metadata": {},
          "output_type": "execute_result"
        }
      ],
      "source": [
        "book_images_columns"
      ]
    },
    {
      "cell_type": "code",
      "execution_count": 106,
      "id": "0fb2b674",
      "metadata": {
        "id": "0fb2b674"
      },
      "outputs": [],
      "source": [
        "book.drop(['Image-URL-S','Image-URL-M','Image-URL-L'],axis=1,inplace=True)##will the these column which is not required as of now in the model"
      ]
    },
    {
      "cell_type": "code",
      "execution_count": 107,
      "id": "46752fdc",
      "metadata": {
        "colab": {
          "base_uri": "https://localhost:8080/",
          "height": 206
        },
        "id": "46752fdc",
        "outputId": "13514066-ed93-46cd-c0f4-524184dfb67a"
      },
      "outputs": [
        {
          "data": {
            "text/html": [
              "<div>\n",
              "<style scoped>\n",
              "    .dataframe tbody tr th:only-of-type {\n",
              "        vertical-align: middle;\n",
              "    }\n",
              "\n",
              "    .dataframe tbody tr th {\n",
              "        vertical-align: top;\n",
              "    }\n",
              "\n",
              "    .dataframe thead th {\n",
              "        text-align: right;\n",
              "    }\n",
              "</style>\n",
              "<table border=\"1\" class=\"dataframe\">\n",
              "  <thead>\n",
              "    <tr style=\"text-align: right;\">\n",
              "      <th></th>\n",
              "      <th>ISBN</th>\n",
              "      <th>Book-Title</th>\n",
              "      <th>Book-Author</th>\n",
              "      <th>Year-Of-Publication</th>\n",
              "      <th>Publisher</th>\n",
              "    </tr>\n",
              "  </thead>\n",
              "  <tbody>\n",
              "    <tr>\n",
              "      <th>0</th>\n",
              "      <td>0195153448</td>\n",
              "      <td>Classical Mythology</td>\n",
              "      <td>Mark P. O. Morford</td>\n",
              "      <td>2002</td>\n",
              "      <td>Oxford University Press</td>\n",
              "    </tr>\n",
              "    <tr>\n",
              "      <th>1</th>\n",
              "      <td>0002005018</td>\n",
              "      <td>Clara Callan</td>\n",
              "      <td>Richard Bruce Wright</td>\n",
              "      <td>2001</td>\n",
              "      <td>HarperFlamingo Canada</td>\n",
              "    </tr>\n",
              "    <tr>\n",
              "      <th>2</th>\n",
              "      <td>0060973129</td>\n",
              "      <td>Decision in Normandy</td>\n",
              "      <td>Carlo D'Este</td>\n",
              "      <td>1991</td>\n",
              "      <td>HarperPerennial</td>\n",
              "    </tr>\n",
              "    <tr>\n",
              "      <th>3</th>\n",
              "      <td>0374157065</td>\n",
              "      <td>Flu: The Story of the Great Influenza Pandemic...</td>\n",
              "      <td>Gina Bari Kolata</td>\n",
              "      <td>1999</td>\n",
              "      <td>Farrar Straus Giroux</td>\n",
              "    </tr>\n",
              "    <tr>\n",
              "      <th>4</th>\n",
              "      <td>0393045218</td>\n",
              "      <td>The Mummies of Urumchi</td>\n",
              "      <td>E. J. W. Barber</td>\n",
              "      <td>1999</td>\n",
              "      <td>W. W. Norton &amp;amp; Company</td>\n",
              "    </tr>\n",
              "  </tbody>\n",
              "</table>\n",
              "</div>"
            ],
            "text/plain": [
              "         ISBN                                         Book-Title  \\\n",
              "0  0195153448                                Classical Mythology   \n",
              "1  0002005018                                       Clara Callan   \n",
              "2  0060973129                               Decision in Normandy   \n",
              "3  0374157065  Flu: The Story of the Great Influenza Pandemic...   \n",
              "4  0393045218                             The Mummies of Urumchi   \n",
              "\n",
              "            Book-Author Year-Of-Publication                   Publisher  \n",
              "0    Mark P. O. Morford                2002     Oxford University Press  \n",
              "1  Richard Bruce Wright                2001       HarperFlamingo Canada  \n",
              "2          Carlo D'Este                1991             HarperPerennial  \n",
              "3      Gina Bari Kolata                1999        Farrar Straus Giroux  \n",
              "4       E. J. W. Barber                1999  W. W. Norton &amp; Company  "
            ]
          },
          "execution_count": 107,
          "metadata": {},
          "output_type": "execute_result"
        }
      ],
      "source": [
        "book.head()"
      ]
    },
    {
      "cell_type": "code",
      "execution_count": 108,
      "id": "dea32cb9",
      "metadata": {
        "colab": {
          "base_uri": "https://localhost:8080/"
        },
        "id": "dea32cb9",
        "outputId": "88dd0efb-07e2-4170-be6b-eceaa67f93cd"
      },
      "outputs": [
        {
          "name": "stdout",
          "output_type": "stream",
          "text": [
            "<class 'pandas.core.frame.DataFrame'>\n",
            "RangeIndex: 271360 entries, 0 to 271359\n",
            "Data columns (total 5 columns):\n",
            " #   Column               Non-Null Count   Dtype \n",
            "---  ------               --------------   ----- \n",
            " 0   ISBN                 271360 non-null  object\n",
            " 1   Book-Title           271360 non-null  object\n",
            " 2   Book-Author          271358 non-null  object\n",
            " 3   Year-Of-Publication  271360 non-null  object\n",
            " 4   Publisher            271358 non-null  object\n",
            "dtypes: object(5)\n",
            "memory usage: 10.4+ MB\n"
          ]
        }
      ],
      "source": [
        "book.info()"
      ]
    },
    {
      "cell_type": "code",
      "execution_count": 109,
      "id": "5f7e7d7d",
      "metadata": {
        "id": "5f7e7d7d"
      },
      "outputs": [],
      "source": [
        "book['Publisher'] = book['Publisher'].fillna(\"Unknown\")##filling the missing values with the unknown value for the publisher"
      ]
    },
    {
      "cell_type": "code",
      "execution_count": 110,
      "id": "4c36af1b",
      "metadata": {
        "id": "4c36af1b"
      },
      "outputs": [],
      "source": [
        "book['Book-Author'] = book['Book-Author'].fillna('Unknown')##illing the missing values with te unknown value for the book author"
      ]
    },
    {
      "cell_type": "code",
      "execution_count": 111,
      "id": "b5ab4680",
      "metadata": {
        "colab": {
          "base_uri": "https://localhost:8080/",
          "height": 241
        },
        "id": "b5ab4680",
        "outputId": "e452fbb5-3026-4c06-b188-1b57048777eb"
      },
      "outputs": [
        {
          "data": {
            "text/plain": [
              "ISBN                   0\n",
              "Book-Title             0\n",
              "Book-Author            0\n",
              "Year-Of-Publication    0\n",
              "Publisher              0\n",
              "dtype: int64"
            ]
          },
          "execution_count": 111,
          "metadata": {},
          "output_type": "execute_result"
        }
      ],
      "source": [
        "book.isnull().sum()##checking for any missing values"
      ]
    },
    {
      "cell_type": "code",
      "execution_count": 112,
      "id": "d12ad611",
      "metadata": {
        "colab": {
          "base_uri": "https://localhost:8080/"
        },
        "id": "d12ad611",
        "outputId": "18a3eb45-1819-4013-8308-ede39728361b"
      },
      "outputs": [
        {
          "data": {
            "text/plain": [
              "np.int64(0)"
            ]
          },
          "execution_count": 112,
          "metadata": {},
          "output_type": "execute_result"
        }
      ],
      "source": [
        "book.duplicated().sum()##checking for the duplicates"
      ]
    },
    {
      "cell_type": "code",
      "execution_count": 113,
      "id": "9e870bba",
      "metadata": {
        "colab": {
          "base_uri": "https://localhost:8080/",
          "height": 544
        },
        "id": "9e870bba",
        "outputId": "dfa59969-7c87-4c03-fa44-eb6981c0e9d3"
      },
      "outputs": [
        {
          "data": {
            "image/png": "[encoded data removed]",
            "text/plain": [
              "<Figure size 1500x700 with 1 Axes>"
            ]
          },
          "metadata": {},
          "output_type": "display_data"
        }
      ],
      "source": [
        "plt.figure(figsize=(15,7))\n",
        "sns.countplot(y='Book-Author',data=book,order=pd.value_counts(book['Book-Author']).iloc[:10].index)\n",
        "plt.title('Top 10 Authors')##Top 10 authors\n",
        "plt.show()"
      ]
    },
    {
      "cell_type": "code",
      "execution_count": 114,
      "id": "28a08110",
      "metadata": {
        "colab": {
          "base_uri": "https://localhost:8080/",
          "height": 533
        },
        "id": "28a08110",
        "outputId": "88a42973-dcf7-4049-b9b8-1fb8dc36c4a5"
      },
      "outputs": [
        {
          "data": {
            "image/png": "[encoded data removed]",
            "text/plain": [
              "<Figure size 1500x700 with 1 Axes>"
            ]
          },
          "metadata": {},
          "output_type": "display_data"
        }
      ],
      "source": [
        "plt.figure(figsize=(15,7))\n",
        "sns.countplot(y='Publisher',data=book,order=pd.value_counts(book['Publisher']).iloc[:10].index)\n",
        "plt.title('Top 10 Publishers')##geting the top 10 publishers\n",
        "plt.show()"
      ]
    },
    {
      "cell_type": "code",
      "execution_count": 115,
      "id": "d07f6acc",
      "metadata": {
        "colab": {
          "base_uri": "https://localhost:8080/",
          "height": 489
        },
        "id": "d07f6acc",
        "outputId": "ce4a12db-e7fd-4e6e-f943-5b42670b9fe7"
      },
      "outputs": [
        {
          "data": {
            "text/plain": [
              "Year-Of-Publication\n",
              "2002    13903\n",
              "2001    13715\n",
              "1999    13414\n",
              "2000    13373\n",
              "1998    12116\n",
              "        ...  \n",
              "1897        1\n",
              "2024        1\n",
              "1376        1\n",
              "1926        1\n",
              "2037        1\n",
              "Name: count, Length: 202, dtype: int64"
            ]
          },
          "execution_count": 115,
          "metadata": {},
          "output_type": "execute_result"
        }
      ],
      "source": [
        "book['Year-Of-Publication'].value_counts()"
      ]
    },
    {
      "cell_type": "code",
      "execution_count": 116,
      "id": "59bcf0f4",
      "metadata": {
        "colab": {
          "base_uri": "https://localhost:8080/",
          "height": 53
        },
        "id": "59bcf0f4",
        "outputId": "f5fcc1d4-f7b4-45fb-bed5-37ed2fe58947"
      },
      "outputs": [
        {
          "data": {
            "text/html": [
              "<div>\n",
              "<style scoped>\n",
              "    .dataframe tbody tr th:only-of-type {\n",
              "        vertical-align: middle;\n",
              "    }\n",
              "\n",
              "    .dataframe tbody tr th {\n",
              "        vertical-align: top;\n",
              "    }\n",
              "\n",
              "    .dataframe thead th {\n",
              "        text-align: right;\n",
              "    }\n",
              "</style>\n",
              "<table border=\"1\" class=\"dataframe\">\n",
              "  <thead>\n",
              "    <tr style=\"text-align: right;\">\n",
              "      <th></th>\n",
              "      <th>ISBN</th>\n",
              "      <th>Book-Title</th>\n",
              "      <th>Book-Author</th>\n",
              "      <th>Year-Of-Publication</th>\n",
              "      <th>Publisher</th>\n",
              "    </tr>\n",
              "  </thead>\n",
              "  <tbody>\n",
              "    <tr>\n",
              "      <th>209538</th>\n",
              "      <td>078946697X</td>\n",
              "      <td>DK Readers: Creating the X-Men, How It All Beg...</td>\n",
              "      <td>2000</td>\n",
              "      <td>DK Publishing Inc</td>\n",
              "      <td>http://images.amazon.com/images/P/078946697X.0...</td>\n",
              "    </tr>\n",
              "  </tbody>\n",
              "</table>\n",
              "</div>"
            ],
            "text/plain": [
              "              ISBN                                         Book-Title  \\\n",
              "209538  078946697X  DK Readers: Creating the X-Men, How It All Beg...   \n",
              "\n",
              "       Book-Author Year-Of-Publication  \\\n",
              "209538        2000   DK Publishing Inc   \n",
              "\n",
              "                                                Publisher  \n",
              "209538  http://images.amazon.com/images/P/078946697X.0...  "
            ]
          },
          "execution_count": 116,
          "metadata": {},
          "output_type": "execute_result"
        }
      ],
      "source": [
        "book[book['ISBN'] == '078946697X']"
      ]
    },
    {
      "cell_type": "code",
      "execution_count": 117,
      "id": "8aa1d0e8",
      "metadata": {
        "colab": {
          "base_uri": "https://localhost:8080/"
        },
        "id": "8aa1d0e8",
        "outputId": "196a91c0-2905-485f-e457-1dbc3a637cf2"
      },
      "outputs": [
        {
          "data": {
            "text/plain": [
              "array([2002, 2001, 1991, 1999, 2000, 1993, 1996, 1988, 2004, 1998, 1994,\n",
              "       2003, 1997, 1983, 1979, 1995, 1982, 1985, 1992, 1986, 1978, 1980,\n",
              "       1952, 1987, 1990, 1981, 1989, 1984, 0, 1968, 1961, 1958, 1974,\n",
              "       1976, 1971, 1977, 1975, 1965, 1941, 1970, 1962, 1973, 1972, 1960,\n",
              "       1966, 1920, 1956, 1959, 1953, 1951, 1942, 1963, 1964, 1969, 1954,\n",
              "       1950, 1967, 2005, 1957, 1940, 1937, 1955, 1946, 1936, 1930, 2011,\n",
              "       1925, 1948, 1943, 1947, 1945, 1923, 2020, 1939, 1926, 1938, 2030,\n",
              "       1911, 1904, 1949, 1932, 1928, 1929, 1927, 1931, 1914, 2050, 1934,\n",
              "       1910, 1933, 1902, 1924, 1921, 1900, 2038, 2026, 1944, 1917, 1901,\n",
              "       2010, 1908, 1906, 1935, 1806, 2021, '2000', '1995', '1999', '2004',\n",
              "       '2003', '1990', '1994', '1986', '1989', '2002', '1981', '1993',\n",
              "       '1983', '1982', '1976', '1991', '1977', '1998', '1992', '1996',\n",
              "       '0', '1997', '2001', '1974', '1968', '1987', '1984', '1988',\n",
              "       '1963', '1956', '1970', '1985', '1978', '1973', '1980', '1979',\n",
              "       '1975', '1969', '1961', '1965', '1939', '1958', '1950', '1953',\n",
              "       '1966', '1971', '1959', '1972', '1955', '1957', '1945', '1960',\n",
              "       '1967', '1932', '1924', '1964', '2012', '1911', '1927', '1948',\n",
              "       '1962', '2006', '1952', '1940', '1951', '1931', '1954', '2005',\n",
              "       '1930', '1941', '1944', 'DK Publishing Inc', '1943', '1938',\n",
              "       '1900', '1942', '1923', '1920', '1933', 'Gallimard', '1909',\n",
              "       '1946', '2008', '1378', '2030', '1936', '1947', '2011', '2020',\n",
              "       '1919', '1949', '1922', '1897', '2024', '1376', '1926', '2037'],\n",
              "      dtype=object)"
            ]
          },
          "execution_count": 117,
          "metadata": {},
          "output_type": "execute_result"
        }
      ],
      "source": [
        "book['Year-Of-Publication'].unique()##we can see some data mismatc in the dataset so wwill replace it"
      ]
    },
    {
      "cell_type": "code",
      "execution_count": 118,
      "id": "bcd4501d",
      "metadata": {
        "colab": {
          "base_uri": "https://localhost:8080/",
          "height": 53
        },
        "id": "bcd4501d",
        "outputId": "3842d4c3-c4b1-459f-e436-b4c3325d6bd0"
      },
      "outputs": [
        {
          "data": {
            "text/html": [
              "<div>\n",
              "<style scoped>\n",
              "    .dataframe tbody tr th:only-of-type {\n",
              "        vertical-align: middle;\n",
              "    }\n",
              "\n",
              "    .dataframe tbody tr th {\n",
              "        vertical-align: top;\n",
              "    }\n",
              "\n",
              "    .dataframe thead th {\n",
              "        text-align: right;\n",
              "    }\n",
              "</style>\n",
              "<table border=\"1\" class=\"dataframe\">\n",
              "  <thead>\n",
              "    <tr style=\"text-align: right;\">\n",
              "      <th></th>\n",
              "      <th>ISBN</th>\n",
              "      <th>Book-Title</th>\n",
              "      <th>Book-Author</th>\n",
              "      <th>Year-Of-Publication</th>\n",
              "      <th>Publisher</th>\n",
              "    </tr>\n",
              "  </thead>\n",
              "  <tbody>\n",
              "    <tr>\n",
              "      <th>209538</th>\n",
              "      <td>078946697X</td>\n",
              "      <td>DK Readers: Creating the X-Men, How It All Beg...</td>\n",
              "      <td>2000</td>\n",
              "      <td>DK Publishing Inc</td>\n",
              "      <td>http://images.amazon.com/images/P/078946697X.0...</td>\n",
              "    </tr>\n",
              "    <tr>\n",
              "      <th>221678</th>\n",
              "      <td>0789466953</td>\n",
              "      <td>DK Readers: Creating the X-Men, How Comic Book...</td>\n",
              "      <td>2000</td>\n",
              "      <td>DK Publishing Inc</td>\n",
              "      <td>http://images.amazon.com/images/P/0789466953.0...</td>\n",
              "    </tr>\n",
              "  </tbody>\n",
              "</table>\n",
              "</div>"
            ],
            "text/plain": [
              "              ISBN                                         Book-Title  \\\n",
              "209538  078946697X  DK Readers: Creating the X-Men, How It All Beg...   \n",
              "221678  0789466953  DK Readers: Creating the X-Men, How Comic Book...   \n",
              "\n",
              "       Book-Author Year-Of-Publication  \\\n",
              "209538        2000   DK Publishing Inc   \n",
              "221678        2000   DK Publishing Inc   \n",
              "\n",
              "                                                Publisher  \n",
              "209538  http://images.amazon.com/images/P/078946697X.0...  \n",
              "221678  http://images.amazon.com/images/P/0789466953.0...  "
            ]
          },
          "execution_count": 118,
          "metadata": {},
          "output_type": "execute_result"
        }
      ],
      "source": [
        "book[book['Year-Of-Publication'] == 'DK Publishing Inc']"
      ]
    },
    {
      "cell_type": "code",
      "execution_count": 119,
      "id": "d059c15c",
      "metadata": {
        "id": "d059c15c"
      },
      "outputs": [],
      "source": [
        "book.loc[book.ISBN == '0789466953','Year-Of-Publication'] = 2000##replace the exact values\n",
        "book.loc[book.ISBN == '0789466953','Book-Author'] = \"James Buckley\"\n",
        "book.loc[book.ISBN == '0789466953','Publisher'] = \"DK Publishing Inc\"\n",
        "book.loc[book.ISBN == '0789466953','Book-Title'] = \"DK Readers: Creating the X-Men, How Comic Books Come to Life (Level 4: Proficient Readers)\"\n",
        "\n",
        "#ISBN '078946697X'\n",
        "book.loc[book.ISBN == '078946697X','Year-Of-Publication'] = 2000##replace the exact values\n",
        "book.loc[book.ISBN == '078946697X','Book-Author'] = \"Michael Teitelbaum\"\n",
        "book.loc[book.ISBN == '078946697X','Publisher'] = \"DK Publishing Inc\"\n",
        "book.loc[book.ISBN == '078946697X','Book-Title'] = \"DK Readers: Creating the X-Men, How It All Began (Level 4: Proficient Readers)\"\n"
      ]
    },
    {
      "cell_type": "code",
      "execution_count": 120,
      "id": "dfcc09f3",
      "metadata": {
        "id": "dfcc09f3"
      },
      "outputs": [],
      "source": [
        "book.loc[book.ISBN == '2070426769','Year-Of-Publication'] = 2003##replace the exact values\n",
        "book.loc[book.ISBN == '2070426769','Book-Author'] = \"Jean-Marie Gustave Le ClÃ?Â©zio\"\n",
        "book.loc[book.ISBN == '2070426769','Publisher'] = \"Gallimard\"\n",
        "book.loc[book.ISBN == '2070426769','Book-Title'] = \"Peuple du ciel, suivi de 'Les Bergers\""
      ]
    },
    {
      "cell_type": "code",
      "execution_count": 121,
      "id": "161be39a",
      "metadata": {
        "id": "161be39a"
      },
      "outputs": [],
      "source": [
        "book['Year-Of-Publication']=pd.to_numeric(book['Year-Of-Publication'], errors='coerce')###we can observe that we could see that we have data with numeric and str values as well so will convert that to numeric"
      ]
    },
    {
      "cell_type": "code",
      "execution_count": 122,
      "id": "e4988674",
      "metadata": {
        "id": "e4988674"
      },
      "outputs": [],
      "source": [
        "book = book[(book[\"Year-Of-Publication\"] >= 1900) & (book[\"Year-Of-Publication\"] <= 2025)]##i have applied the filter and take the year of publication from 1900 to 2025 and we have removed the outliers"
      ]
    },
    {
      "cell_type": "code",
      "execution_count": 123,
      "id": "56411afa",
      "metadata": {
        "colab": {
          "base_uri": "https://localhost:8080/"
        },
        "id": "56411afa",
        "outputId": "550946ef-b404-48fa-96a6-31e24d3fd170"
      },
      "outputs": [
        {
          "data": {
            "text/plain": [
              "array([2002, 2001, 1991, 1999, 2000, 1993, 1996, 1988, 2004, 1998, 1994,\n",
              "       2003, 1997, 1983, 1979, 1995, 1982, 1985, 1992, 1986, 1978, 1980,\n",
              "       1952, 1987, 1990, 1981, 1989, 1984, 1968, 1961, 1958, 1974, 1976,\n",
              "       1971, 1977, 1975, 1965, 1941, 1970, 1962, 1973, 1972, 1960, 1966,\n",
              "       1920, 1956, 1959, 1953, 1951, 1942, 1963, 1964, 1969, 1954, 1950,\n",
              "       1967, 2005, 1957, 1940, 1937, 1955, 1946, 1936, 1930, 2011, 1925,\n",
              "       1948, 1943, 1947, 1945, 1923, 2020, 1939, 1926, 1938, 1911, 1904,\n",
              "       1949, 1932, 1928, 1929, 1927, 1931, 1914, 1934, 1910, 1933, 1902,\n",
              "       1924, 1921, 1900, 1944, 1917, 1901, 2010, 1908, 1906, 1935, 2021,\n",
              "       2012, 2006, 1909, 2008, 1919, 1922, 2024])"
            ]
          },
          "execution_count": 123,
          "metadata": {},
          "output_type": "execute_result"
        }
      ],
      "source": [
        "book['Year-Of-Publication'].unique()"
      ]
    },
    {
      "cell_type": "markdown",
      "id": "5660d16a",
      "metadata": {
        "id": "5660d16a"
      },
      "source": [
        "##user dataset"
      ]
    },
    {
      "cell_type": "code",
      "execution_count": 124,
      "id": "6d09a6f6",
      "metadata": {
        "colab": {
          "base_uri": "https://localhost:8080/",
          "height": 206
        },
        "id": "6d09a6f6",
        "outputId": "c01ebf2b-46ab-405c-c883-e17d154a7bf1"
      },
      "outputs": [
        {
          "data": {
            "text/html": [
              "<div>\n",
              "<style scoped>\n",
              "    .dataframe tbody tr th:only-of-type {\n",
              "        vertical-align: middle;\n",
              "    }\n",
              "\n",
              "    .dataframe tbody tr th {\n",
              "        vertical-align: top;\n",
              "    }\n",
              "\n",
              "    .dataframe thead th {\n",
              "        text-align: right;\n",
              "    }\n",
              "</style>\n",
              "<table border=\"1\" class=\"dataframe\">\n",
              "  <thead>\n",
              "    <tr style=\"text-align: right;\">\n",
              "      <th></th>\n",
              "      <th>User-ID</th>\n",
              "      <th>Location</th>\n",
              "      <th>Age</th>\n",
              "    </tr>\n",
              "  </thead>\n",
              "  <tbody>\n",
              "    <tr>\n",
              "      <th>0</th>\n",
              "      <td>1</td>\n",
              "      <td>nyc, new york, usa</td>\n",
              "      <td>NaN</td>\n",
              "    </tr>\n",
              "    <tr>\n",
              "      <th>1</th>\n",
              "      <td>2</td>\n",
              "      <td>stockton, california, usa</td>\n",
              "      <td>18.0</td>\n",
              "    </tr>\n",
              "    <tr>\n",
              "      <th>2</th>\n",
              "      <td>3</td>\n",
              "      <td>moscow, yukon territory, russia</td>\n",
              "      <td>NaN</td>\n",
              "    </tr>\n",
              "    <tr>\n",
              "      <th>3</th>\n",
              "      <td>4</td>\n",
              "      <td>porto, v.n.gaia, portugal</td>\n",
              "      <td>17.0</td>\n",
              "    </tr>\n",
              "    <tr>\n",
              "      <th>4</th>\n",
              "      <td>5</td>\n",
              "      <td>farnborough, hants, united kingdom</td>\n",
              "      <td>NaN</td>\n",
              "    </tr>\n",
              "  </tbody>\n",
              "</table>\n",
              "</div>"
            ],
            "text/plain": [
              "   User-ID                            Location   Age\n",
              "0        1                  nyc, new york, usa   NaN\n",
              "1        2           stockton, california, usa  18.0\n",
              "2        3     moscow, yukon territory, russia   NaN\n",
              "3        4           porto, v.n.gaia, portugal  17.0\n",
              "4        5  farnborough, hants, united kingdom   NaN"
            ]
          },
          "execution_count": 124,
          "metadata": {},
          "output_type": "execute_result"
        }
      ],
      "source": [
        "user.head()"
      ]
    },
    {
      "cell_type": "code",
      "execution_count": 125,
      "id": "cb3f6424",
      "metadata": {
        "colab": {
          "base_uri": "https://localhost:8080/"
        },
        "id": "cb3f6424",
        "outputId": "30ff3c2e-add5-4b84-bbff-3eb6e5664003"
      },
      "outputs": [
        {
          "name": "stdout",
          "output_type": "stream",
          "text": [
            "<class 'pandas.core.frame.DataFrame'>\n",
            "RangeIndex: 278858 entries, 0 to 278857\n",
            "Data columns (total 3 columns):\n",
            " #   Column    Non-Null Count   Dtype  \n",
            "---  ------    --------------   -----  \n",
            " 0   User-ID   278858 non-null  int64  \n",
            " 1   Location  278858 non-null  object \n",
            " 2   Age       168096 non-null  float64\n",
            "dtypes: float64(1), int64(1), object(1)\n",
            "memory usage: 6.4+ MB\n"
          ]
        }
      ],
      "source": [
        "user.info()"
      ]
    },
    {
      "cell_type": "code",
      "execution_count": 126,
      "id": "96ced43c",
      "metadata": {
        "colab": {
          "base_uri": "https://localhost:8080/",
          "height": 178
        },
        "id": "96ced43c",
        "outputId": "401ac900-c8f3-472a-c389-935d81967a99"
      },
      "outputs": [
        {
          "data": {
            "text/plain": [
              "User-ID          0\n",
              "Location         0\n",
              "Age         110762\n",
              "dtype: int64"
            ]
          },
          "execution_count": 126,
          "metadata": {},
          "output_type": "execute_result"
        }
      ],
      "source": [
        "user.isnull().sum()##checking for the missing values in the user dataset"
      ]
    },
    {
      "cell_type": "code",
      "execution_count": 127,
      "id": "fa93c088",
      "metadata": {
        "id": "fa93c088"
      },
      "outputs": [],
      "source": [
        "def percent_missing(df):##function that checks the percent of missing values in the dataset\n",
        "    percent=100*user.isnull().sum()/len(user)\n",
        "    return percent"
      ]
    },
    {
      "cell_type": "code",
      "execution_count": 128,
      "id": "08b019f4",
      "metadata": {
        "colab": {
          "base_uri": "https://localhost:8080/",
          "height": 178
        },
        "id": "08b019f4",
        "outputId": "e93a6014-35f0-4b47-9fa8-0346891f223f"
      },
      "outputs": [
        {
          "data": {
            "text/plain": [
              "User-ID      0.000000\n",
              "Location     0.000000\n",
              "Age         39.719857\n",
              "dtype: float64"
            ]
          },
          "execution_count": 128,
          "metadata": {},
          "output_type": "execute_result"
        }
      ],
      "source": [
        "percent_missing(user)##we observe that 39% of the dataset is missing in the dataset"
      ]
    },
    {
      "cell_type": "code",
      "execution_count": 129,
      "id": "e09ffe78",
      "metadata": {
        "colab": {
          "base_uri": "https://localhost:8080/",
          "height": 489
        },
        "id": "e09ffe78",
        "outputId": "77759151-07c9-4b32-f79a-376cd526b522"
      },
      "outputs": [
        {
          "data": {
            "text/plain": [
              "Age\n",
              "24.0     5687\n",
              "25.0     5618\n",
              "26.0     5547\n",
              "23.0     5456\n",
              "27.0     5383\n",
              "         ... \n",
              "220.0       1\n",
              "143.0       1\n",
              "140.0       1\n",
              "189.0       1\n",
              "127.0       1\n",
              "Name: count, Length: 165, dtype: int64"
            ]
          },
          "execution_count": 129,
          "metadata": {},
          "output_type": "execute_result"
        }
      ],
      "source": [
        "user['Age'].value_counts()##here we can observe that we have alot of outliers"
      ]
    },
    {
      "cell_type": "code",
      "execution_count": 130,
      "id": "da297be8",
      "metadata": {
        "colab": {
          "base_uri": "https://localhost:8080/",
          "height": 493
        },
        "id": "da297be8",
        "outputId": "d086fb63-1a6c-44f3-dd69-5cd4b3f4439d"
      },
      "outputs": [
        {
          "data": {
            "image/png": "[encoded data removed]",
            "text/plain": [
              "<Figure size 640x480 with 1 Axes>"
            ]
          },
          "metadata": {},
          "output_type": "display_data"
        }
      ],
      "source": [
        "user.Age.hist(bins=[0, 10, 20, 30, 40, 50, 100])\n",
        "plt.title('Age Distribution\\n')\n",
        "plt.xlabel('Age')\n",
        "plt.ylabel('Count')\n",
        "plt.show()##plot the hist plot for the age from 0 to 100"
      ]
    },
    {
      "cell_type": "code",
      "execution_count": 131,
      "id": "06f6b533",
      "metadata": {
        "colab": {
          "base_uri": "https://localhost:8080/",
          "height": 450
        },
        "id": "06f6b533",
        "outputId": "38688273-95ab-42d6-fcee-28ac0380999d"
      },
      "outputs": [
        {
          "data": {
            "text/plain": [
              "Text(0.5, 1.0, 'Find outlier data in Age column')"
            ]
          },
          "execution_count": 131,
          "metadata": {},
          "output_type": "execute_result"
        },
        {
          "data": {
            "image/png": "[encoded data removed]",
            "text/plain": [
              "<Figure size 640x480 with 1 Axes>"
            ]
          },
          "metadata": {},
          "output_type": "display_data"
        }
      ],
      "source": [
        "sns.boxplot(y='Age', data=user)\n",
        "plt.title('Find outlier data in Age column')##checking the outliers in the dataset we could observe that we have th age upto 250"
      ]
    },
    {
      "cell_type": "code",
      "execution_count": 132,
      "id": "beaf2e45",
      "metadata": {
        "colab": {
          "base_uri": "https://localhost:8080/"
        },
        "id": "beaf2e45",
        "outputId": "ec358d52-028f-4bfc-9763-fddbbda0da4f"
      },
      "outputs": [
        {
          "data": {
            "text/plain": [
              "165"
            ]
          },
          "execution_count": 132,
          "metadata": {},
          "output_type": "execute_result"
        }
      ],
      "source": [
        "user.Age.nunique()"
      ]
    },
    {
      "cell_type": "code",
      "execution_count": 133,
      "id": "ef2e1a67",
      "metadata": {
        "colab": {
          "base_uri": "https://localhost:8080/"
        },
        "id": "ef2e1a67",
        "outputId": "3a2e82dd-3d1c-457a-856e-9b5d2a45043f"
      },
      "outputs": [
        {
          "name": "stdout",
          "output_type": "stream",
          "text": [
            "[np.float64(nan), np.float64(0.0), np.float64(1.0), np.float64(2.0), np.float64(3.0), np.float64(4.0), np.float64(5.0), np.float64(6.0), np.float64(7.0), np.float64(8.0), np.float64(9.0), np.float64(10.0), np.float64(11.0), np.float64(12.0), np.float64(13.0), np.float64(14.0), np.float64(15.0), np.float64(16.0), np.float64(17.0), np.float64(18.0), np.float64(19.0), np.float64(20.0), np.float64(21.0), np.float64(22.0), np.float64(23.0), np.float64(24.0), np.float64(25.0), np.float64(26.0), np.float64(27.0), np.float64(28.0), np.float64(29.0), np.float64(30.0), np.float64(31.0), np.float64(32.0), np.float64(33.0), np.float64(34.0), np.float64(35.0), np.float64(36.0), np.float64(37.0), np.float64(38.0), np.float64(39.0), np.float64(40.0), np.float64(41.0), np.float64(42.0), np.float64(43.0), np.float64(44.0), np.float64(45.0), np.float64(46.0), np.float64(47.0), np.float64(48.0), np.float64(49.0), np.float64(50.0), np.float64(51.0), np.float64(52.0), np.float64(53.0), np.float64(54.0), np.float64(55.0), np.float64(56.0), np.float64(57.0), np.float64(58.0), np.float64(59.0), np.float64(60.0), np.float64(61.0), np.float64(62.0), np.float64(63.0), np.float64(64.0), np.float64(65.0), np.float64(66.0), np.float64(67.0), np.float64(68.0), np.float64(69.0), np.float64(70.0), np.float64(71.0), np.float64(72.0), np.float64(73.0), np.float64(74.0), np.float64(75.0), np.float64(76.0), np.float64(77.0), np.float64(78.0), np.float64(79.0), np.float64(80.0), np.float64(81.0), np.float64(82.0), np.float64(83.0), np.float64(84.0), np.float64(85.0), np.float64(86.0), np.float64(87.0), np.float64(88.0), np.float64(89.0), np.float64(90.0), np.float64(91.0), np.float64(92.0), np.float64(93.0), np.float64(94.0), np.float64(95.0), np.float64(96.0), np.float64(97.0), np.float64(98.0), np.float64(99.0), np.float64(100.0), np.float64(101.0), np.float64(102.0), np.float64(103.0), np.float64(104.0), np.float64(105.0), np.float64(106.0), np.float64(107.0), np.float64(108.0), np.float64(109.0), np.float64(110.0), np.float64(111.0), np.float64(113.0), np.float64(114.0), np.float64(115.0), np.float64(116.0), np.float64(118.0), np.float64(119.0), np.float64(123.0), np.float64(124.0), np.float64(127.0), np.float64(128.0), np.float64(132.0), np.float64(133.0), np.float64(136.0), np.float64(137.0), np.float64(138.0), np.float64(140.0), np.float64(141.0), np.float64(143.0), np.float64(146.0), np.float64(147.0), np.float64(148.0), np.float64(151.0), np.float64(152.0), np.float64(156.0), np.float64(157.0), np.float64(159.0), np.float64(162.0), np.float64(168.0), np.float64(172.0), np.float64(175.0), np.float64(183.0), np.float64(186.0), np.float64(189.0), np.float64(199.0), np.float64(200.0), np.float64(201.0), np.float64(204.0), np.float64(207.0), np.float64(208.0), np.float64(209.0), np.float64(210.0), np.float64(212.0), np.float64(219.0), np.float64(220.0), np.float64(223.0), np.float64(226.0), np.float64(228.0), np.float64(229.0), np.float64(230.0), np.float64(231.0), np.float64(237.0), np.float64(239.0), np.float64(244.0)]\n"
          ]
        }
      ],
      "source": [
        "print(sorted(user.Age.unique()))##checking on the unique values in the age column"
      ]
    },
    {
      "cell_type": "code",
      "execution_count": 134,
      "id": "b198364c",
      "metadata": {
        "colab": {
          "base_uri": "https://localhost:8080/"
        },
        "id": "b198364c",
        "outputId": "b10ab7fb-083e-4b11-a4c8-91542b560752"
      },
      "outputs": [
        {
          "data": {
            "text/plain": [
              "(57339,)"
            ]
          },
          "execution_count": 134,
          "metadata": {},
          "output_type": "execute_result"
        }
      ],
      "source": [
        "user.Location.unique().shape"
      ]
    },
    {
      "cell_type": "code",
      "execution_count": 135,
      "id": "83b71026",
      "metadata": {
        "id": "83b71026"
      },
      "outputs": [],
      "source": [
        "user.drop('Location',axis=1,inplace=True)##we feel that the location is not such important in the model build so will drop it"
      ]
    },
    {
      "cell_type": "code",
      "execution_count": 136,
      "id": "f8c0a0b7",
      "metadata": {
        "colab": {
          "base_uri": "https://localhost:8080/"
        },
        "id": "f8c0a0b7",
        "outputId": "bb845ef5-47ee-4692-df46-46dd75d93920"
      },
      "outputs": [
        {
          "data": {
            "text/plain": [
              "np.int64(0)"
            ]
          },
          "execution_count": 136,
          "metadata": {},
          "output_type": "execute_result"
        }
      ],
      "source": [
        "user.duplicated().sum()##checking for the duplicate values in the user dataset"
      ]
    },
    {
      "cell_type": "code",
      "execution_count": 137,
      "id": "37b15138",
      "metadata": {
        "colab": {
          "base_uri": "https://localhost:8080/",
          "height": 147
        },
        "id": "37b15138",
        "outputId": "68866939-97ec-49ae-b77e-6dc07216a627"
      },
      "outputs": [
        {
          "data": {
            "text/plain": [
              "User-ID         0\n",
              "Age        110762\n",
              "dtype: int64"
            ]
          },
          "execution_count": 137,
          "metadata": {},
          "output_type": "execute_result"
        }
      ],
      "source": [
        "user.isnull().sum()##checkin the sum of is null values in the age column"
      ]
    },
    {
      "cell_type": "code",
      "execution_count": 138,
      "id": "8f79e1fa",
      "metadata": {
        "colab": {
          "base_uri": "https://localhost:8080/",
          "height": 489
        },
        "id": "8f79e1fa",
        "outputId": "3b8dbc67-1203-4e1a-e76c-5ce0a7b61f11"
      },
      "outputs": [
        {
          "data": {
            "text/plain": [
              "Text(0.5, 1.0, 'Age Distribution Plot')"
            ]
          },
          "execution_count": 138,
          "metadata": {},
          "output_type": "execute_result"
        },
        {
          "data": {
            "image/png": "[encoded data removed]",
            "text/plain": [
              "<Figure size 640x480 with 1 Axes>"
            ]
          },
          "metadata": {},
          "output_type": "display_data"
        }
      ],
      "source": [
        "sns.distplot(user.Age)\n",
        "plt.title('Age Distribution Plot')##plot the distplot to see that dataset distribution for the Age,from this we can observe that most of the age category are from 10 to 80"
      ]
    },
    {
      "cell_type": "code",
      "execution_count": 139,
      "id": "dfeee8cc",
      "metadata": {
        "id": "dfeee8cc"
      },
      "outputs": [],
      "source": [
        "user = user[(user.Age > 5) & (user.Age < 105)]##since we have many outilers values in the Age columna nd also based on the prevuos plot i hae filter the age from 5 to 105"
      ]
    },
    {
      "cell_type": "code",
      "execution_count": 140,
      "id": "22c70aba",
      "metadata": {
        "colab": {
          "base_uri": "https://localhost:8080/"
        },
        "id": "22c70aba",
        "outputId": "7e36e9a4-471d-4864-abb0-147151569790"
      },
      "outputs": [
        {
          "name": "stdout",
          "output_type": "stream",
          "text": [
            "<class 'pandas.core.frame.DataFrame'>\n",
            "Index: 167080 entries, 1 to 278854\n",
            "Data columns (total 2 columns):\n",
            " #   Column   Non-Null Count   Dtype  \n",
            "---  ------   --------------   -----  \n",
            " 0   User-ID  167080 non-null  int64  \n",
            " 1   Age      167080 non-null  float64\n",
            "dtypes: float64(1), int64(1)\n",
            "memory usage: 3.8 MB\n"
          ]
        }
      ],
      "source": [
        "user.info()##we can see we have removed most of the age values which are with na values"
      ]
    },
    {
      "cell_type": "code",
      "execution_count": 141,
      "id": "cd061b67",
      "metadata": {
        "colab": {
          "base_uri": "https://localhost:8080/",
          "height": 147
        },
        "id": "cd061b67",
        "outputId": "0af9f491-8768-4b8a-c32e-fce08cacafb8"
      },
      "outputs": [
        {
          "data": {
            "text/plain": [
              "User-ID    0\n",
              "Age        0\n",
              "dtype: int64"
            ]
          },
          "execution_count": 141,
          "metadata": {},
          "output_type": "execute_result"
        }
      ],
      "source": [
        "user.isnull().sum()"
      ]
    },
    {
      "cell_type": "code",
      "execution_count": 142,
      "id": "d8483926",
      "metadata": {
        "colab": {
          "base_uri": "https://localhost:8080/"
        },
        "id": "d8483926",
        "outputId": "3c0cd730-8a1a-4e83-8897-b5301fbe5434"
      },
      "outputs": [
        {
          "data": {
            "text/plain": [
              "np.int64(0)"
            ]
          },
          "execution_count": 142,
          "metadata": {},
          "output_type": "execute_result"
        }
      ],
      "source": [
        "user.duplicated().sum()##no duplicates as well in the user dataset"
      ]
    },
    {
      "cell_type": "code",
      "execution_count": 143,
      "id": "0a2d793c",
      "metadata": {
        "colab": {
          "base_uri": "https://localhost:8080/",
          "height": 206
        },
        "id": "0a2d793c",
        "outputId": "d51fe928-7f16-4c48-e28a-1bbd0e1f38ff"
      },
      "outputs": [
        {
          "data": {
            "text/html": [
              "<div>\n",
              "<style scoped>\n",
              "    .dataframe tbody tr th:only-of-type {\n",
              "        vertical-align: middle;\n",
              "    }\n",
              "\n",
              "    .dataframe tbody tr th {\n",
              "        vertical-align: top;\n",
              "    }\n",
              "\n",
              "    .dataframe thead th {\n",
              "        text-align: right;\n",
              "    }\n",
              "</style>\n",
              "<table border=\"1\" class=\"dataframe\">\n",
              "  <thead>\n",
              "    <tr style=\"text-align: right;\">\n",
              "      <th></th>\n",
              "      <th>User-ID</th>\n",
              "      <th>Age</th>\n",
              "    </tr>\n",
              "  </thead>\n",
              "  <tbody>\n",
              "    <tr>\n",
              "      <th>1</th>\n",
              "      <td>2</td>\n",
              "      <td>18.0</td>\n",
              "    </tr>\n",
              "    <tr>\n",
              "      <th>3</th>\n",
              "      <td>4</td>\n",
              "      <td>17.0</td>\n",
              "    </tr>\n",
              "    <tr>\n",
              "      <th>5</th>\n",
              "      <td>6</td>\n",
              "      <td>61.0</td>\n",
              "    </tr>\n",
              "    <tr>\n",
              "      <th>9</th>\n",
              "      <td>10</td>\n",
              "      <td>26.0</td>\n",
              "    </tr>\n",
              "    <tr>\n",
              "      <th>10</th>\n",
              "      <td>11</td>\n",
              "      <td>14.0</td>\n",
              "    </tr>\n",
              "  </tbody>\n",
              "</table>\n",
              "</div>"
            ],
            "text/plain": [
              "    User-ID   Age\n",
              "1         2  18.0\n",
              "3         4  17.0\n",
              "5         6  61.0\n",
              "9        10  26.0\n",
              "10       11  14.0"
            ]
          },
          "execution_count": 143,
          "metadata": {},
          "output_type": "execute_result"
        }
      ],
      "source": [
        "user.head()"
      ]
    },
    {
      "cell_type": "markdown",
      "id": "f8af154a",
      "metadata": {
        "id": "f8af154a"
      },
      "source": [
        "##rating dataset"
      ]
    },
    {
      "cell_type": "code",
      "execution_count": 144,
      "id": "b5d1dbf0",
      "metadata": {
        "id": "b5d1dbf0"
      },
      "outputs": [],
      "source": [
        "rating = pd.read_csv('Ratings.csv',encoding='latin1')##reading the dataset"
      ]
    },
    {
      "cell_type": "code",
      "execution_count": 145,
      "id": "d7d55078",
      "metadata": {
        "colab": {
          "base_uri": "https://localhost:8080/",
          "height": 206
        },
        "id": "d7d55078",
        "outputId": "f84f5298-5772-43a2-a58b-0b43ce47f901"
      },
      "outputs": [
        {
          "data": {
            "text/html": [
              "<div>\n",
              "<style scoped>\n",
              "    .dataframe tbody tr th:only-of-type {\n",
              "        vertical-align: middle;\n",
              "    }\n",
              "\n",
              "    .dataframe tbody tr th {\n",
              "        vertical-align: top;\n",
              "    }\n",
              "\n",
              "    .dataframe thead th {\n",
              "        text-align: right;\n",
              "    }\n",
              "</style>\n",
              "<table border=\"1\" class=\"dataframe\">\n",
              "  <thead>\n",
              "    <tr style=\"text-align: right;\">\n",
              "      <th></th>\n",
              "      <th>User-ID</th>\n",
              "      <th>ISBN</th>\n",
              "      <th>Book-Rating</th>\n",
              "    </tr>\n",
              "  </thead>\n",
              "  <tbody>\n",
              "    <tr>\n",
              "      <th>0</th>\n",
              "      <td>276725</td>\n",
              "      <td>034545104X</td>\n",
              "      <td>0</td>\n",
              "    </tr>\n",
              "    <tr>\n",
              "      <th>1</th>\n",
              "      <td>276726</td>\n",
              "      <td>0155061224</td>\n",
              "      <td>5</td>\n",
              "    </tr>\n",
              "    <tr>\n",
              "      <th>2</th>\n",
              "      <td>276727</td>\n",
              "      <td>0446520802</td>\n",
              "      <td>0</td>\n",
              "    </tr>\n",
              "    <tr>\n",
              "      <th>3</th>\n",
              "      <td>276729</td>\n",
              "      <td>052165615X</td>\n",
              "      <td>3</td>\n",
              "    </tr>\n",
              "    <tr>\n",
              "      <th>4</th>\n",
              "      <td>276729</td>\n",
              "      <td>0521795028</td>\n",
              "      <td>6</td>\n",
              "    </tr>\n",
              "  </tbody>\n",
              "</table>\n",
              "</div>"
            ],
            "text/plain": [
              "   User-ID        ISBN  Book-Rating\n",
              "0   276725  034545104X            0\n",
              "1   276726  0155061224            5\n",
              "2   276727  0446520802            0\n",
              "3   276729  052165615X            3\n",
              "4   276729  0521795028            6"
            ]
          },
          "execution_count": 145,
          "metadata": {},
          "output_type": "execute_result"
        }
      ],
      "source": [
        "rating.head()"
      ]
    },
    {
      "cell_type": "code",
      "execution_count": null,
      "id": "6460c350",
      "metadata": {
        "id": "6460c350"
      },
      "outputs": [],
      "source": []
    },
    {
      "cell_type": "code",
      "execution_count": null,
      "id": "5604310a",
      "metadata": {
        "id": "5604310a"
      },
      "outputs": [],
      "source": []
    },
    {
      "cell_type": "code",
      "execution_count": 146,
      "id": "26e63f90",
      "metadata": {
        "colab": {
          "base_uri": "https://localhost:8080/"
        },
        "id": "26e63f90",
        "outputId": "921201e9-3962-44a6-addb-c82a902ddaa2"
      },
      "outputs": [
        {
          "name": "stdout",
          "output_type": "stream",
          "text": [
            "<class 'pandas.core.frame.DataFrame'>\n",
            "RangeIndex: 1149780 entries, 0 to 1149779\n",
            "Data columns (total 3 columns):\n",
            " #   Column       Non-Null Count    Dtype \n",
            "---  ------       --------------    ----- \n",
            " 0   User-ID      1149780 non-null  int64 \n",
            " 1   ISBN         1149780 non-null  object\n",
            " 2   Book-Rating  1149780 non-null  int64 \n",
            "dtypes: int64(2), object(1)\n",
            "memory usage: 26.3+ MB\n"
          ]
        }
      ],
      "source": [
        "rating.info()##checking for the datatype"
      ]
    },
    {
      "cell_type": "code",
      "execution_count": 147,
      "id": "952b95c0",
      "metadata": {
        "colab": {
          "base_uri": "https://localhost:8080/"
        },
        "id": "952b95c0",
        "outputId": "5cf7ae49-667f-448c-99b6-10108c1d0f3a"
      },
      "outputs": [
        {
          "data": {
            "text/plain": [
              "np.int64(0)"
            ]
          },
          "execution_count": 147,
          "metadata": {},
          "output_type": "execute_result"
        }
      ],
      "source": [
        "rating.duplicated().sum()##checkin for the duplicates values"
      ]
    },
    {
      "cell_type": "code",
      "execution_count": 148,
      "id": "1df7db14",
      "metadata": {
        "colab": {
          "base_uri": "https://localhost:8080/",
          "height": 460
        },
        "id": "1df7db14",
        "outputId": "d00898cb-1108-49a7-b5cb-b7c836a4aa3a"
      },
      "outputs": [
        {
          "data": {
            "text/plain": [
              "Book-Rating\n",
              "0     716109\n",
              "8     103736\n",
              "10     78610\n",
              "7      76457\n",
              "9      67541\n",
              "5      50974\n",
              "6      36924\n",
              "4       8904\n",
              "3       5996\n",
              "2       2759\n",
              "1       1770\n",
              "Name: count, dtype: int64"
            ]
          },
          "execution_count": 148,
          "metadata": {},
          "output_type": "execute_result"
        }
      ],
      "source": [
        "rating['Book-Rating'].value_counts()##in the dataset we can see that we have many data with 0 rating if we drop most of the data set will be droped"
      ]
    },
    {
      "cell_type": "code",
      "execution_count": 149,
      "id": "7c689388",
      "metadata": {
        "colab": {
          "base_uri": "https://localhost:8080/"
        },
        "id": "7c689388",
        "outputId": "ee7b144e-c0f4-42c2-f069-47f2c46a76c2"
      },
      "outputs": [
        {
          "data": {
            "text/plain": [
              "array([ 0,  5,  3,  6,  8,  7, 10,  9,  4,  1,  2])"
            ]
          },
          "execution_count": 149,
          "metadata": {},
          "output_type": "execute_result"
        }
      ],
      "source": [
        "rating['Book-Rating'].unique()##seeing the unique values in the dataset"
      ]
    },
    {
      "cell_type": "code",
      "execution_count": 150,
      "id": "3e1af09d",
      "metadata": {
        "colab": {
          "base_uri": "https://localhost:8080/",
          "height": 466
        },
        "id": "3e1af09d",
        "outputId": "e13d246d-bce0-45b1-98d5-fd32aaba32cb"
      },
      "outputs": [
        {
          "data": {
            "text/plain": [
              "<Axes: xlabel='Book-Rating', ylabel='count'>"
            ]
          },
          "execution_count": 150,
          "metadata": {},
          "output_type": "execute_result"
        },
        {
          "data": {
            "image/png": "[encoded data removed]",
            "text/plain": [
              "<Figure size 640x480 with 1 Axes>"
            ]
          },
          "metadata": {},
          "output_type": "display_data"
        }
      ],
      "source": [
        "sns.countplot(data=rating,x='Book-Rating')"
      ]
    },
    {
      "cell_type": "code",
      "execution_count": 151,
      "id": "37c8a393",
      "metadata": {
        "id": "37c8a393"
      },
      "outputs": [],
      "source": [
        "zero_ratings = rating[rating['Book-Rating'] == 0]\n",
        "non_zero_ratings = rating[rating['Book-Rating'] != 0]##taking the sample record with shuffle set"
      ]
    },
    {
      "cell_type": "code",
      "execution_count": 152,
      "id": "0bfc04ff",
      "metadata": {
        "id": "0bfc04ff"
      },
      "outputs": [],
      "source": [
        "zero_sample = zero_ratings.sample(n=50000, random_state=42)# we have taken the Sample 50,000 zero ratings"
      ]
    },
    {
      "cell_type": "code",
      "execution_count": 153,
      "id": "0633daf4",
      "metadata": {
        "id": "0633daf4"
      },
      "outputs": [],
      "source": [
        "remaining_sample = non_zero_ratings.sample(n=150000, random_state=42)# Sample remaining records randomly"
      ]
    },
    {
      "cell_type": "code",
      "execution_count": 154,
      "id": "81ef06b0",
      "metadata": {
        "id": "81ef06b0"
      },
      "outputs": [],
      "source": [
        "rating = pd.concat([zero_sample, remaining_sample])# Combine both samples"
      ]
    },
    {
      "cell_type": "code",
      "execution_count": 155,
      "id": "4b222aef",
      "metadata": {
        "colab": {
          "base_uri": "https://localhost:8080/",
          "height": 460
        },
        "id": "4b222aef",
        "outputId": "cde57000-5cff-47b7-b445-52ecd7a4ec35"
      },
      "outputs": [
        {
          "data": {
            "text/plain": [
              "Book-Rating\n",
              "0     50000\n",
              "8     35925\n",
              "10    27191\n",
              "7     26280\n",
              "9     23305\n",
              "5     17648\n",
              "6     12886\n",
              "4      3069\n",
              "3      2126\n",
              "2       927\n",
              "1       643\n",
              "Name: count, dtype: int64"
            ]
          },
          "execution_count": 155,
          "metadata": {},
          "output_type": "execute_result"
        }
      ],
      "source": [
        "rating['Book-Rating'].value_counts()##so we have taken the sample of 50000 records randomly"
      ]
    },
    {
      "cell_type": "code",
      "execution_count": 156,
      "id": "58c61691",
      "metadata": {
        "colab": {
          "base_uri": "https://localhost:8080/"
        },
        "id": "58c61691",
        "outputId": "1c1fe9d7-5526-4e61-a0a8-6aa75fd2daf0"
      },
      "outputs": [
        {
          "data": {
            "text/plain": [
              "np.int64(200000)"
            ]
          },
          "execution_count": 156,
          "metadata": {},
          "output_type": "execute_result"
        }
      ],
      "source": [
        "rating['Book-Rating'].value_counts().sum()##we have got the sample records upto to 200000"
      ]
    },
    {
      "cell_type": "code",
      "execution_count": 157,
      "id": "34b8c413",
      "metadata": {
        "colab": {
          "base_uri": "https://localhost:8080/",
          "height": 466
        },
        "id": "34b8c413",
        "outputId": "1b90b629-e0a2-474f-ea49-d7d85731c534"
      },
      "outputs": [
        {
          "data": {
            "text/plain": [
              "<Axes: xlabel='Book-Rating', ylabel='count'>"
            ]
          },
          "execution_count": 157,
          "metadata": {},
          "output_type": "execute_result"
        },
        {
          "data": {
            "image/png": "[encoded data removed]",
            "text/plain": [
              "<Figure size 640x480 with 1 Axes>"
            ]
          },
          "metadata": {},
          "output_type": "display_data"
        }
      ],
      "source": [
        "sns.countplot(data=rating,x='Book-Rating')##we can now observ that the dataset is showing the accurate rating"
      ]
    },
    {
      "cell_type": "code",
      "execution_count": 158,
      "id": "4adc7e4d",
      "metadata": {
        "colab": {
          "base_uri": "https://localhost:8080/"
        },
        "id": "4adc7e4d",
        "outputId": "226644c0-cec5-4df3-b955-12e6b6f9dd62"
      },
      "outputs": [
        {
          "data": {
            "text/plain": [
              "(266726, 5)"
            ]
          },
          "execution_count": 158,
          "metadata": {},
          "output_type": "execute_result"
        }
      ],
      "source": [
        "book.shape"
      ]
    },
    {
      "cell_type": "code",
      "execution_count": 159,
      "id": "6e053963",
      "metadata": {
        "colab": {
          "base_uri": "https://localhost:8080/"
        },
        "id": "6e053963",
        "outputId": "b954736c-315d-47cc-810c-ea810de730a6"
      },
      "outputs": [
        {
          "data": {
            "text/plain": [
              "(167080, 2)"
            ]
          },
          "execution_count": 159,
          "metadata": {},
          "output_type": "execute_result"
        }
      ],
      "source": [
        "user.shape"
      ]
    },
    {
      "cell_type": "code",
      "execution_count": 160,
      "id": "36d0c9ed",
      "metadata": {
        "colab": {
          "base_uri": "https://localhost:8080/"
        },
        "id": "36d0c9ed",
        "outputId": "d678ffc6-533b-44db-ae84-a27c0cb784f3"
      },
      "outputs": [
        {
          "data": {
            "text/plain": [
              "(200000, 3)"
            ]
          },
          "execution_count": 160,
          "metadata": {},
          "output_type": "execute_result"
        }
      ],
      "source": [
        "rating.shape"
      ]
    },
    {
      "cell_type": "markdown",
      "id": "RDKsYqFDi9os",
      "metadata": {
        "id": "RDKsYqFDi9os"
      },
      "source": [
        "##Merging"
      ]
    },
    {
      "cell_type": "code",
      "execution_count": 161,
      "id": "c6ff547b",
      "metadata": {
        "id": "c6ff547b"
      },
      "outputs": [],
      "source": [
        "dataset = pd.merge(book, rating, on='ISBN', how='inner')##merge the dataset"
      ]
    },
    {
      "cell_type": "code",
      "execution_count": 162,
      "id": "ed465cd1",
      "metadata": {
        "id": "ed465cd1"
      },
      "outputs": [],
      "source": [
        "dataset = pd.merge(dataset, user, on='User-ID', how='inner')##merge the dataset"
      ]
    },
    {
      "cell_type": "code",
      "execution_count": 163,
      "id": "4c143834",
      "metadata": {
        "colab": {
          "base_uri": "https://localhost:8080/",
          "height": 275
        },
        "id": "4c143834",
        "outputId": "4f5304ba-9c5a-4e9a-ac01-959fe1424bbe"
      },
      "outputs": [
        {
          "data": {
            "text/html": [
              "<div>\n",
              "<style scoped>\n",
              "    .dataframe tbody tr th:only-of-type {\n",
              "        vertical-align: middle;\n",
              "    }\n",
              "\n",
              "    .dataframe tbody tr th {\n",
              "        vertical-align: top;\n",
              "    }\n",
              "\n",
              "    .dataframe thead th {\n",
              "        text-align: right;\n",
              "    }\n",
              "</style>\n",
              "<table border=\"1\" class=\"dataframe\">\n",
              "  <thead>\n",
              "    <tr style=\"text-align: right;\">\n",
              "      <th></th>\n",
              "      <th>ISBN</th>\n",
              "      <th>Book-Title</th>\n",
              "      <th>Book-Author</th>\n",
              "      <th>Year-Of-Publication</th>\n",
              "      <th>Publisher</th>\n",
              "      <th>User-ID</th>\n",
              "      <th>Book-Rating</th>\n",
              "      <th>Age</th>\n",
              "    </tr>\n",
              "  </thead>\n",
              "  <tbody>\n",
              "    <tr>\n",
              "      <th>0</th>\n",
              "      <td>0002005018</td>\n",
              "      <td>Clara Callan</td>\n",
              "      <td>Richard Bruce Wright</td>\n",
              "      <td>2001</td>\n",
              "      <td>HarperFlamingo Canada</td>\n",
              "      <td>263325</td>\n",
              "      <td>6</td>\n",
              "      <td>27.0</td>\n",
              "    </tr>\n",
              "    <tr>\n",
              "      <th>1</th>\n",
              "      <td>0060973129</td>\n",
              "      <td>Decision in Normandy</td>\n",
              "      <td>Carlo D'Este</td>\n",
              "      <td>1991</td>\n",
              "      <td>HarperPerennial</td>\n",
              "      <td>2954</td>\n",
              "      <td>8</td>\n",
              "      <td>71.0</td>\n",
              "    </tr>\n",
              "    <tr>\n",
              "      <th>2</th>\n",
              "      <td>0060973129</td>\n",
              "      <td>Decision in Normandy</td>\n",
              "      <td>Carlo D'Este</td>\n",
              "      <td>1991</td>\n",
              "      <td>HarperPerennial</td>\n",
              "      <td>152827</td>\n",
              "      <td>7</td>\n",
              "      <td>40.0</td>\n",
              "    </tr>\n",
              "    <tr>\n",
              "      <th>3</th>\n",
              "      <td>0374157065</td>\n",
              "      <td>Flu: The Story of the Great Influenza Pandemic...</td>\n",
              "      <td>Gina Bari Kolata</td>\n",
              "      <td>1999</td>\n",
              "      <td>Farrar Straus Giroux</td>\n",
              "      <td>35704</td>\n",
              "      <td>6</td>\n",
              "      <td>53.0</td>\n",
              "    </tr>\n",
              "    <tr>\n",
              "      <th>4</th>\n",
              "      <td>0374157065</td>\n",
              "      <td>Flu: The Story of the Great Influenza Pandemic...</td>\n",
              "      <td>Gina Bari Kolata</td>\n",
              "      <td>1999</td>\n",
              "      <td>Farrar Straus Giroux</td>\n",
              "      <td>157969</td>\n",
              "      <td>8</td>\n",
              "      <td>30.0</td>\n",
              "    </tr>\n",
              "  </tbody>\n",
              "</table>\n",
              "</div>"
            ],
            "text/plain": [
              "         ISBN                                         Book-Title  \\\n",
              "0  0002005018                                       Clara Callan   \n",
              "1  0060973129                               Decision in Normandy   \n",
              "2  0060973129                               Decision in Normandy   \n",
              "3  0374157065  Flu: The Story of the Great Influenza Pandemic...   \n",
              "4  0374157065  Flu: The Story of the Great Influenza Pandemic...   \n",
              "\n",
              "            Book-Author  Year-Of-Publication              Publisher  User-ID  \\\n",
              "0  Richard Bruce Wright                 2001  HarperFlamingo Canada   263325   \n",
              "1          Carlo D'Este                 1991        HarperPerennial     2954   \n",
              "2          Carlo D'Este                 1991        HarperPerennial   152827   \n",
              "3      Gina Bari Kolata                 1999   Farrar Straus Giroux    35704   \n",
              "4      Gina Bari Kolata                 1999   Farrar Straus Giroux   157969   \n",
              "\n",
              "   Book-Rating   Age  \n",
              "0            6  27.0  \n",
              "1            8  71.0  \n",
              "2            7  40.0  \n",
              "3            6  53.0  \n",
              "4            8  30.0  "
            ]
          },
          "execution_count": 163,
          "metadata": {},
          "output_type": "execute_result"
        }
      ],
      "source": [
        "dataset.head()"
      ]
    },
    {
      "cell_type": "code",
      "execution_count": 164,
      "id": "0dce78a6",
      "metadata": {
        "id": "0dce78a6"
      },
      "outputs": [],
      "source": [
        "df=dataset.copy()"
      ]
    },
    {
      "cell_type": "code",
      "execution_count": 165,
      "id": "f10f1bdc",
      "metadata": {},
      "outputs": [
        {
          "data": {
            "text/plain": [
              "0         263325\n",
              "1           2954\n",
              "2         152827\n",
              "3          35704\n",
              "4         157969\n",
              "           ...  \n",
              "124467    271836\n",
              "124468    273718\n",
              "124469    274220\n",
              "124470    274220\n",
              "124471    276579\n",
              "Name: User-ID, Length: 124472, dtype: int64"
            ]
          },
          "execution_count": 165,
          "metadata": {},
          "output_type": "execute_result"
        }
      ],
      "source": [
        "df['User-ID']"
      ]
    },
    {
      "cell_type": "code",
      "execution_count": 166,
      "id": "70802a3e",
      "metadata": {
        "colab": {
          "base_uri": "https://localhost:8080/"
        },
        "id": "70802a3e",
        "outputId": "95826080-2a9e-42af-8e14-d363004d3278"
      },
      "outputs": [
        {
          "data": {
            "text/plain": [
              "(124472, 8)"
            ]
          },
          "execution_count": 166,
          "metadata": {},
          "output_type": "execute_result"
        }
      ],
      "source": [
        "df.shape"
      ]
    },
    {
      "cell_type": "code",
      "execution_count": 167,
      "id": "df77646a",
      "metadata": {
        "colab": {
          "base_uri": "https://localhost:8080/"
        },
        "id": "df77646a",
        "outputId": "85637836-5f1b-4807-aa48-6eb43f581157"
      },
      "outputs": [
        {
          "name": "stdout",
          "output_type": "stream",
          "text": [
            "<class 'pandas.core.frame.DataFrame'>\n",
            "RangeIndex: 124472 entries, 0 to 124471\n",
            "Data columns (total 8 columns):\n",
            " #   Column               Non-Null Count   Dtype  \n",
            "---  ------               --------------   -----  \n",
            " 0   ISBN                 124472 non-null  object \n",
            " 1   Book-Title           124472 non-null  object \n",
            " 2   Book-Author          124472 non-null  object \n",
            " 3   Year-Of-Publication  124472 non-null  int64  \n",
            " 4   Publisher            124472 non-null  object \n",
            " 5   User-ID              124472 non-null  int64  \n",
            " 6   Book-Rating          124472 non-null  int64  \n",
            " 7   Age                  124472 non-null  float64\n",
            "dtypes: float64(1), int64(3), object(4)\n",
            "memory usage: 7.6+ MB\n"
          ]
        }
      ],
      "source": [
        "df.info()"
      ]
    },
    {
      "cell_type": "code",
      "execution_count": 168,
      "id": "gdPSRdQe7Hjv",
      "metadata": {
        "id": "gdPSRdQe7Hjv"
      },
      "outputs": [],
      "source": [
        "# saving the merged file\n",
        "df.to_csv('df.csv', index=False)"
      ]
    },
    {
      "cell_type": "markdown",
      "id": "6e50c68c",
      "metadata": {
        "id": "6e50c68c"
      },
      "source": [
        "#**Model buliding**"
      ]
    },
    {
      "cell_type": "markdown",
      "id": "f06da9bb",
      "metadata": {
        "id": "f06da9bb"
      },
      "source": [
        "## Popularity-Based Recommendation"
      ]
    },
    {
      "cell_type": "code",
      "execution_count": 169,
      "id": "8d2ee1df",
      "metadata": {
        "colab": {
          "base_uri": "https://localhost:8080/"
        },
        "id": "8d2ee1df",
        "outputId": "0518c7ce-8719-47b1-d453-a0f652b9522f"
      },
      "outputs": [
        {
          "data": {
            "text/plain": [
              "(124472, 8)"
            ]
          },
          "execution_count": 169,
          "metadata": {},
          "output_type": "execute_result"
        }
      ],
      "source": [
        "df.shape"
      ]
    },
    {
      "cell_type": "code",
      "execution_count": 170,
      "id": "91e248ed",
      "metadata": {
        "id": "91e248ed"
      },
      "outputs": [],
      "source": [
        "def get_popular_books(df, min_ratings=50, top_n=10):\n",
        "    # Aggregate rating counts and average ratings\n",
        "    book_popularity = df.groupby(\"Book-Title\").agg(\n",
        "        rating_count=(\"Book-Rating\", \"count\"),\n",
        "        avg_rating=(\"Book-Rating\", \"mean\")\n",
        "    ).reset_index()\n",
        "\n",
        "    # Filter books with minimum number of ratings\n",
        "    book_popularity = book_popularity[book_popularity[\"rating_count\"] >= min_ratings]\n",
        "\n",
        "    # Sort by highest average rating first, then by number of ratings\n",
        "    book_popularity = book_popularity.sort_values(by=[\"avg_rating\", \"rating_count\"], ascending=[False, False])\n",
        "\n",
        "    # Drop duplicate book titles and keep only the first occurrence\n",
        "    book_details = df[[\"Book-Title\", \"Book-Author\", \"Publisher\"]].drop_duplicates(subset=[\"Book-Title\"])\n",
        "\n",
        "    # Merge with book details (ensuring unique titles)\n",
        "    book_popularity = book_popularity.merge(book_details, on=\"Book-Title\", how=\"left\")\n",
        "\n",
        "    return book_popularity.head(top_n)\n"
      ]
    },
    {
      "cell_type": "code",
      "execution_count": 171,
      "id": "9cf91117",
      "metadata": {
        "id": "9cf91117"
      },
      "outputs": [],
      "source": [
        "popular_books = get_popular_books(df, min_ratings=50, top_n=10)"
      ]
    },
    {
      "cell_type": "code",
      "execution_count": 172,
      "id": "5cf7bdd8",
      "metadata": {
        "colab": {
          "base_uri": "https://localhost:8080/",
          "height": 363
        },
        "id": "5cf7bdd8",
        "outputId": "8ac3db45-a76b-4c42-c061-d42c73e5f89a"
      },
      "outputs": [
        {
          "data": {
            "text/html": [
              "<div>\n",
              "<style scoped>\n",
              "    .dataframe tbody tr th:only-of-type {\n",
              "        vertical-align: middle;\n",
              "    }\n",
              "\n",
              "    .dataframe tbody tr th {\n",
              "        vertical-align: top;\n",
              "    }\n",
              "\n",
              "    .dataframe thead th {\n",
              "        text-align: right;\n",
              "    }\n",
              "</style>\n",
              "<table border=\"1\" class=\"dataframe\">\n",
              "  <thead>\n",
              "    <tr style=\"text-align: right;\">\n",
              "      <th></th>\n",
              "      <th>Book-Title</th>\n",
              "      <th>rating_count</th>\n",
              "      <th>avg_rating</th>\n",
              "      <th>Book-Author</th>\n",
              "      <th>Publisher</th>\n",
              "    </tr>\n",
              "  </thead>\n",
              "  <tbody>\n",
              "    <tr>\n",
              "      <th>0</th>\n",
              "      <td>Harry Potter and the Sorcerer's Stone (Book 1)</td>\n",
              "      <td>57</td>\n",
              "      <td>8.649123</td>\n",
              "      <td>J. K. Rowling</td>\n",
              "      <td>Scholastic</td>\n",
              "    </tr>\n",
              "    <tr>\n",
              "      <th>1</th>\n",
              "      <td>The Fellowship of the Ring (The Lord of the Ri...</td>\n",
              "      <td>60</td>\n",
              "      <td>8.450000</td>\n",
              "      <td>J.R.R. TOLKIEN</td>\n",
              "      <td>Del Rey</td>\n",
              "    </tr>\n",
              "    <tr>\n",
              "      <th>2</th>\n",
              "      <td>Harry Potter and the Order of the Phoenix (Boo...</td>\n",
              "      <td>68</td>\n",
              "      <td>8.073529</td>\n",
              "      <td>J. K. Rowling</td>\n",
              "      <td>Scholastic</td>\n",
              "    </tr>\n",
              "    <tr>\n",
              "      <th>3</th>\n",
              "      <td>Harry Potter and the Goblet of Fire (Book 4)</td>\n",
              "      <td>73</td>\n",
              "      <td>8.041096</td>\n",
              "      <td>J. K. Rowling</td>\n",
              "      <td>Scholastic</td>\n",
              "    </tr>\n",
              "    <tr>\n",
              "      <th>4</th>\n",
              "      <td>Harry Potter and the Prisoner of Azkaban (Book 3)</td>\n",
              "      <td>70</td>\n",
              "      <td>8.014286</td>\n",
              "      <td>J. K. Rowling</td>\n",
              "      <td>Scholastic</td>\n",
              "    </tr>\n",
              "    <tr>\n",
              "      <th>5</th>\n",
              "      <td>1984</td>\n",
              "      <td>51</td>\n",
              "      <td>8.000000</td>\n",
              "      <td>George Orwell</td>\n",
              "      <td>Signet Book</td>\n",
              "    </tr>\n",
              "    <tr>\n",
              "      <th>6</th>\n",
              "      <td>Harry Potter and the Chamber of Secrets (Book 2)</td>\n",
              "      <td>102</td>\n",
              "      <td>7.980392</td>\n",
              "      <td>J. K. Rowling</td>\n",
              "      <td>Scholastic</td>\n",
              "    </tr>\n",
              "    <tr>\n",
              "      <th>7</th>\n",
              "      <td>Tuesdays with Morrie: An Old Man, a Young Man,...</td>\n",
              "      <td>77</td>\n",
              "      <td>7.649351</td>\n",
              "      <td>MITCH ALBOM</td>\n",
              "      <td>Doubleday</td>\n",
              "    </tr>\n",
              "    <tr>\n",
              "      <th>8</th>\n",
              "      <td>To Kill a Mockingbird</td>\n",
              "      <td>95</td>\n",
              "      <td>7.473684</td>\n",
              "      <td>Harper Lee</td>\n",
              "      <td>Little Brown &amp;amp; Company</td>\n",
              "    </tr>\n",
              "    <tr>\n",
              "      <th>9</th>\n",
              "      <td>Harry Potter and the Sorcerer's Stone (Harry P...</td>\n",
              "      <td>97</td>\n",
              "      <td>7.463918</td>\n",
              "      <td>J. K. Rowling</td>\n",
              "      <td>Arthur A. Levine Books</td>\n",
              "    </tr>\n",
              "  </tbody>\n",
              "</table>\n",
              "</div>"
            ],
            "text/plain": [
              "                                          Book-Title  rating_count  \\\n",
              "0     Harry Potter and the Sorcerer's Stone (Book 1)            57   \n",
              "1  The Fellowship of the Ring (The Lord of the Ri...            60   \n",
              "2  Harry Potter and the Order of the Phoenix (Boo...            68   \n",
              "3       Harry Potter and the Goblet of Fire (Book 4)            73   \n",
              "4  Harry Potter and the Prisoner of Azkaban (Book 3)            70   \n",
              "5                                               1984            51   \n",
              "6   Harry Potter and the Chamber of Secrets (Book 2)           102   \n",
              "7  Tuesdays with Morrie: An Old Man, a Young Man,...            77   \n",
              "8                              To Kill a Mockingbird            95   \n",
              "9  Harry Potter and the Sorcerer's Stone (Harry P...            97   \n",
              "\n",
              "   avg_rating     Book-Author                   Publisher  \n",
              "0    8.649123   J. K. Rowling                  Scholastic  \n",
              "1    8.450000  J.R.R. TOLKIEN                     Del Rey  \n",
              "2    8.073529   J. K. Rowling                  Scholastic  \n",
              "3    8.041096   J. K. Rowling                  Scholastic  \n",
              "4    8.014286   J. K. Rowling                  Scholastic  \n",
              "5    8.000000   George Orwell                 Signet Book  \n",
              "6    7.980392   J. K. Rowling                  Scholastic  \n",
              "7    7.649351     MITCH ALBOM                   Doubleday  \n",
              "8    7.473684      Harper Lee  Little Brown &amp; Company  \n",
              "9    7.463918   J. K. Rowling      Arthur A. Levine Books  "
            ]
          },
          "execution_count": 172,
          "metadata": {},
          "output_type": "execute_result"
        }
      ],
      "source": [
        "popular_books"
      ]
    },
    {
      "cell_type": "markdown",
      "id": "c08ea41f",
      "metadata": {
        "id": "c08ea41f"
      },
      "source": [
        "##collabarative Filtering (User to item)"
      ]
    },
    {
      "cell_type": "code",
      "execution_count": 173,
      "id": "9d68d8a9",
      "metadata": {
        "id": "9d68d8a9"
      },
      "outputs": [],
      "source": [
        "# from scipy.sparse import csr_matrix\n",
        "\n",
        "# # Dense matrix (2D NumPy array)\n",
        "# dense_matrix = np.array([[5, 0, 0],\n",
        "#                          [0, 3, 0],\n",
        "#                          [0, 0, 4]])\n",
        "\n",
        "# # Convert to sparse matrix\n",
        "# sparse_matrix = csr_matrix(dense_matrix)\n",
        "\n",
        "# print(sparse_matrix)"
      ]
    },
    {
      "cell_type": "code",
      "execution_count": 174,
      "id": "15d4ad37",
      "metadata": {
        "id": "15d4ad37"
      },
      "outputs": [],
      "source": [
        "##USING KNN With User Id"
      ]
    },
    {
      "cell_type": "code",
      "execution_count": 175,
      "id": "536e9862",
      "metadata": {
        "colab": {
          "base_uri": "https://localhost:8080/",
          "height": 363
        },
        "id": "536e9862",
        "outputId": "d9d2d197-3cf9-4e49-8841-71c23b2f2111"
      },
      "outputs": [
        {
          "name": "stdout",
          "output_type": "stream",
          "text": [
            "                                              Book-Title      Book-Author\n",
            "1181                                 Angels &amp; Demons        Dan Brown\n",
            "4833   One for the Money (Stephanie Plum Novels (Pape...  Janet Evanovich\n",
            "5448                                  Skipping Christmas     JOHN GRISHAM\n",
            "15062                                  Midwives: A Novel  Chris Bohjalian\n",
            "16006                                   The Runaway Jury     JOHN GRISHAM\n",
            "19174       White Oleander : A Novel (Oprah's Book Club)      Janet Fitch\n",
            "21389                                            Milkrun  Sarah Mlynowski\n",
            "24696                                       The Stranger     ALBERT CAMUS\n",
            "36620                                    Scarlet Feather     Maeve Binchy\n"
          ]
        }
      ],
      "source": [
        "from scipy.sparse import csr_matrix\n",
        "from sklearn.neighbors import NearestNeighbors\n",
        "\n",
        "# Step 1: Filter books and users\n",
        "book_counts = df.groupby(\"ISBN\")[\"Book-Rating\"].count()\n",
        "user_counts = df.groupby(\"User-ID\")[\"Book-Rating\"].count()\n",
        "\n",
        "filtered_books = book_counts[book_counts >= 10].index  # Books with at least 10 ratings\n",
        "filtered_users = user_counts[user_counts >= 5].index  # Users who rated at least 5 books\n",
        "\n",
        "df = df[df[\"ISBN\"].isin(filtered_books) & df[\"User-ID\"].isin(filtered_users)]\n",
        "\n",
        "# Step 2: Create a User-Item Matrix\n",
        "user_item_matrix = df.pivot(index=\"User-ID\", columns=\"ISBN\", values=\"Book-Rating\").fillna(0)\n",
        "\n",
        "# Convert to sparse matrix\n",
        "sparse_matrix = csr_matrix(user_item_matrix)\n",
        "\n",
        "# Step 3: Train a KNN Model (User-Based Collaborative Filtering)\n",
        "knn = NearestNeighbors(metric='cosine', algorithm='brute')\n",
        "knn.fit(sparse_matrix)\n",
        "\n",
        "# Step 4: Function to Recommend Books Based on Similar Users\n",
        "def get_user_recommendations(user_id, n=10):\n",
        "    if user_id not in user_item_matrix.index:\n",
        "        return \"User not found in the matrix!\"\n",
        "   \n",
        "    # Get the index of the user in the matrix\n",
        "    user_idx = user_item_matrix.index.get_loc(user_id)\n",
        "   \n",
        "    # Find the top N similar users\n",
        "    distances, indices = knn.kneighbors(sparse_matrix[user_idx], n_neighbors=n+1)\n",
        "   \n",
        "    # Get the recommended user IDs (excluding the input user)\n",
        "    similar_users = user_item_matrix.iloc[indices.flatten()[1:]].index.tolist()\n",
        "   \n",
        "    # Get books rated highly by similar users but not yet rated by the input user\n",
        "    similar_users_books = df[df[\"User-ID\"].isin(similar_users)]\n",
        "    user_books = set(df[df[\"User-ID\"] == user_id][\"ISBN\"])\n",
        "    recommended_books = similar_users_books[~similar_users_books[\"ISBN\"].isin(user_books)]\n",
        "   \n",
        "    # Get top recommended books\n",
        "    recommendations = recommended_books.groupby(\"ISBN\")[\"Book-Rating\"].mean().reset_index()\n",
        "    recommendations = recommendations.sort_values(by=\"Book-Rating\", ascending=False).head(n)\n",
        "   \n",
        "    # Fetch book titles and authors\n",
        "    final_recommendations = df[df[\"ISBN\"].isin(recommendations[\"ISBN\"])][[\"Book-Title\", \"Book-Author\"]].drop_duplicates()\n",
        "   \n",
        "    return final_recommendations\n",
        "\n",
        "user_example = 123981  # Replace with an actual User-ID\n",
        "print(get_user_recommendations(user_example))"
      ]
    },
    {
      "cell_type": "code",
      "execution_count": null,
      "id": "db6d0343",
      "metadata": {
        "id": "db6d0343"
      },
      "outputs": [],
      "source": [
        "# df.info() 254, 388 , 638 , 278221,273718"
      ]
    },
    {
      "cell_type": "markdown",
      "id": "CzjJagdKje43",
      "metadata": {
        "id": "CzjJagdKje43"
      },
      "source": [
        "##content based"
      ]
    },
    {
      "cell_type": "code",
      "execution_count": 177,
      "id": "31c6447a",
      "metadata": {
        "id": "31c6447a"
      },
      "outputs": [],
      "source": [
        "from sklearn.feature_extraction.text import TfidfVectorizer\n",
        "from sklearn.metrics.pairwise import cosine_similarity\n",
        "\n",
        "#Filter books and users\n",
        "book_counts = df.groupby(\"ISBN\")[\"Book-Rating\"].count()\n",
        "user_counts = df.groupby(\"User-ID\")[\"Book-Rating\"].count()\n",
        "\n",
        "filtered_books = book_counts[book_counts >= 10].index  # Books with at least 10 ratings\n",
        "filtered_users = user_counts[user_counts >= 5].index  # Users who rated at least 5 books\n",
        "\n",
        "df = df[df[\"ISBN\"].isin(filtered_books) & df[\"User-ID\"].isin(filtered_users)]\n",
        "\n",
        "#Remove Duplicates and Keep One Unique Row Per Book\n",
        "df_unique = df.drop_duplicates(subset=\"Book-Title\", keep=\"first\").reset_index(drop=True)\n",
        "\n",
        "#Create a text feature for similarity comparison\n",
        "df_unique[\"book_features\"] = (\n",
        "    df_unique[\"Book-Title\"].fillna(\"\") + \" \" +\n",
        "    df_unique[\"Book-Author\"].fillna(\"\") + \" \" +\n",
        "    df_unique[\"Publisher\"].fillna(\"\")\n",
        ")\n",
        "\n",
        "#Apply TF-IDF Vectorization\n",
        "tfidf = TfidfVectorizer(stop_words=\"english\")\n",
        "tfidf_matrix = tfidf.fit_transform(df_unique[\"book_features\"])\n",
        "\n",
        "#Compute Cosine Similarity\n",
        "book_similarity = cosine_similarity(tfidf_matrix)\n",
        "\n",
        "book_index = pd.Series(df_unique.index, index=df_unique[\"Book-Title\"]).to_dict()\n",
        "\n",
        "\n",
        "def get_similar_books(book_title, n=15):\n",
        "    \"\"\"Returns top N similar books based on the given book title.\"\"\"\n",
        "\n",
        "    if book_title not in book_index:\n",
        "        return \"Book not found!\"\n",
        "\n",
        "    idx = book_index[book_title]  # Get row index in df_unique\n",
        "\n",
        "    if idx >= len(book_similarity):\n",
        "        return \"Book index out of range!\"\n",
        "\n",
        "    # Get top N similar books (excluding the book itself)\n",
        "    similar_books = book_similarity[idx].argsort()[-n-1:-1][::-1]\n",
        "\n",
        "    return df.iloc[similar_books][[\"Book-Title\", \"Book-Author\"]].drop_duplicates()"
      ]
    },
    {
      "cell_type": "code",
      "execution_count": 178,
      "id": "e5ce340c",
      "metadata": {
        "colab": {
          "base_uri": "https://localhost:8080/",
          "height": 331
        },
        "id": "e5ce340c",
        "outputId": "5f39f8c4-da52-411f-8668-890ef1be61cf"
      },
      "outputs": [
        {
          "data": {
            "text/html": [
              "<div>\n",
              "<style scoped>\n",
              "    .dataframe tbody tr th:only-of-type {\n",
              "        vertical-align: middle;\n",
              "    }\n",
              "\n",
              "    .dataframe tbody tr th {\n",
              "        vertical-align: top;\n",
              "    }\n",
              "\n",
              "    .dataframe thead th {\n",
              "        text-align: right;\n",
              "    }\n",
              "</style>\n",
              "<table border=\"1\" class=\"dataframe\">\n",
              "  <thead>\n",
              "    <tr style=\"text-align: right;\">\n",
              "      <th></th>\n",
              "      <th>Book-Title</th>\n",
              "      <th>Book-Author</th>\n",
              "    </tr>\n",
              "  </thead>\n",
              "  <tbody>\n",
              "    <tr>\n",
              "      <th>160</th>\n",
              "      <td>Wild Animus</td>\n",
              "      <td>Rich Shapero</td>\n",
              "    </tr>\n",
              "    <tr>\n",
              "      <th>61</th>\n",
              "      <td>Beloved (Plume Contemporary Fiction)</td>\n",
              "      <td>Toni Morrison</td>\n",
              "    </tr>\n",
              "    <tr>\n",
              "      <th>1921</th>\n",
              "      <td>Roses Are Red (Alex Cross Novels)</td>\n",
              "      <td>James Patterson</td>\n",
              "    </tr>\n",
              "    <tr>\n",
              "      <th>662</th>\n",
              "      <td>The Street Lawyer</td>\n",
              "      <td>JOHN GRISHAM</td>\n",
              "    </tr>\n",
              "    <tr>\n",
              "      <th>432</th>\n",
              "      <td>Timeline</td>\n",
              "      <td>MICHAEL CRICHTON</td>\n",
              "    </tr>\n",
              "    <tr>\n",
              "      <th>880</th>\n",
              "      <td>The Catcher in the Rye</td>\n",
              "      <td>J.D. Salinger</td>\n",
              "    </tr>\n",
              "    <tr>\n",
              "      <th>1228</th>\n",
              "      <td>Angels &amp;amp; Demons</td>\n",
              "      <td>Dan Brown</td>\n",
              "    </tr>\n",
              "    <tr>\n",
              "      <th>469</th>\n",
              "      <td>To Kill a Mockingbird</td>\n",
              "      <td>Harper Lee</td>\n",
              "    </tr>\n",
              "    <tr>\n",
              "      <th>1661</th>\n",
              "      <td>The Big Bad Wolf: A Novel</td>\n",
              "      <td>James Patterson</td>\n",
              "    </tr>\n",
              "  </tbody>\n",
              "</table>\n",
              "</div>"
            ],
            "text/plain": [
              "                                Book-Title       Book-Author\n",
              "160                            Wild Animus      Rich Shapero\n",
              "61    Beloved (Plume Contemporary Fiction)     Toni Morrison\n",
              "1921     Roses Are Red (Alex Cross Novels)   James Patterson\n",
              "662                      The Street Lawyer      JOHN GRISHAM\n",
              "432                               Timeline  MICHAEL CRICHTON\n",
              "880                 The Catcher in the Rye     J.D. Salinger\n",
              "1228                   Angels &amp; Demons         Dan Brown\n",
              "469                  To Kill a Mockingbird        Harper Lee\n",
              "1661             The Big Bad Wolf: A Novel   James Patterson"
            ]
          },
          "execution_count": 178,
          "metadata": {},
          "output_type": "execute_result"
        }
      ],
      "source": [
        "get_similar_books('The Da Vinci Code')"
      ]
    },
    {
      "cell_type": "markdown",
      "id": "axd49KvrkK4T",
      "metadata": {
        "id": "axd49KvrkK4T"
      },
      "source": [
        "##Model Evaluation"
      ]
    },
    {
      "cell_type": "code",
      "execution_count": 179,
      "id": "61711b47",
      "metadata": {
        "colab": {
          "base_uri": "https://localhost:8080/"
        },
        "id": "61711b47",
        "outputId": "086618be-01dd-4151-9e7e-adebc64c8ddd"
      },
      "outputs": [
        {
          "name": "stdout",
          "output_type": "stream",
          "text": [
            "Evaluation for 'The Da Vinci Code':\n",
            " Precision: 0.60\n",
            "Recall: 0.01\n",
            " F1-Score: 0.03\n"
          ]
        },
        {
          "data": {
            "text/plain": [
              "(0.6, 0.01485148514851485, 0.02898550724637681)"
            ]
          },
          "execution_count": 179,
          "metadata": {},
          "output_type": "execute_result"
        }
      ],
      "source": [
        "from sklearn.feature_extraction.text import TfidfVectorizer\n",
        "from sklearn.metrics.pairwise import cosine_similarity\n",
        "\n",
        "#Filter books and users\n",
        "book_counts = df.groupby(\"ISBN\")[\"Book-Rating\"].count()\n",
        "user_counts = df.groupby(\"User-ID\")[\"Book-Rating\"].count()\n",
        "\n",
        "filtered_books = book_counts[book_counts >= 10].index  # Books with at least 10 ratings\n",
        "filtered_users = user_counts[user_counts >= 5].index  # Users who rated at least 5 books\n",
        "\n",
        "df = df[df[\"ISBN\"].isin(filtered_books) & df[\"User-ID\"].isin(filtered_users)]\n",
        "\n",
        "#Remove Duplicates and Keep One Unique Row Per Book\n",
        "df_unique = df.drop_duplicates(subset=\"Book-Title\", keep=\"first\").reset_index(drop=True)\n",
        "\n",
        "#Create a text feature for similarity comparison\n",
        "df_unique[\"book_features\"] = (\n",
        "    df_unique[\"Book-Title\"].fillna(\"\") + \" \" +\n",
        "    df_unique[\"Book-Author\"].fillna(\"\") + \" \" +\n",
        "    df_unique[\"Publisher\"].fillna(\"\")\n",
        ")\n",
        "\n",
        "#Apply TF-IDF Vectorization\n",
        "tfidf = TfidfVectorizer(stop_words=\"english\")\n",
        "tfidf_matrix = tfidf.fit_transform(df_unique[\"book_features\"])\n",
        "\n",
        "#Compute Cosine Similarity\n",
        "book_similarity = cosine_similarity(tfidf_matrix)\n",
        "\n",
        "book_index = pd.Series(df_unique.index, index=df_unique[\"Book-Title\"]).to_dict()\n",
        "\n",
        "\n",
        "def get_similar_books(book_title, n=5):\n",
        "    \"\"\"Returns top N similar books based on the given book title.\"\"\"\n",
        "\n",
        "    if book_title not in book_index:\n",
        "        return \"Book not found!\"\n",
        "\n",
        "    idx = book_index[book_title]  # Get row index in df_unique\n",
        "\n",
        "    if idx >= len(book_similarity):\n",
        "        return \"Book index out of range!\"\n",
        "\n",
        "    # Get top N similar books (excluding the book itself)\n",
        "    similar_books = book_similarity[idx].argsort()[-n-1:-1][::-1]\n",
        "\n",
        "    return df.iloc[similar_books][[\"Book-Title\", \"Book-Author\"]].drop_duplicates()\n",
        "\n",
        "# Function to evaluate recommendations\n",
        "def evaluate_recommendations(recommendations, ground_truth):\n",
        "    \"\"\"\n",
        "    Evaluates book recommendations using Precision, Recall, and F1-score.\n",
        "    \"\"\"\n",
        "    relevant_set = set(ground_truth)##the ground truth books are the ones rated by users who have also rated the given book.\n",
        "    recommended_set = set(recommendations)\n",
        "    true_positives = recommended_set.intersection(relevant_set)\n",
        "\n",
        "    precision = len(true_positives) / len(recommended_set) if len(recommended_set) > 0 else 0\n",
        "    recall = len(true_positives) / len(relevant_set) if len(relevant_set) > 0 else 0\n",
        "\n",
        "    f1 = (2 * precision * recall / (precision + recall)) if (precision + recall) > 0 else 0\n",
        "\n",
        "    return precision, recall, f1\n",
        "\n",
        "# Function to evaluate model for a given book\n",
        "def evaluate_model_for_book(book_title, df, top_n=10):##Evaluates the book recommendation model for a given book title.\n",
        "\n",
        "    recommended_books_df = get_similar_books(book_title, n=top_n)\n",
        "    recommended_books = recommended_books_df['Book-Title'].tolist()\n",
        "\n",
        "    # Get ground truth books: Other books rated by users who rated this book\n",
        "    users_who_rated = df[df['Book-Title'] == book_title]['User-ID'].unique()##all users who have rated the given book\n",
        "    ground_truth_books_df = df[df['User-ID'].isin(users_who_rated)]\n",
        "    ground_truth_books = ground_truth_books_df['Book-Title'].unique().tolist()##will pick all the books from the user id we have have got\n",
        "\n",
        "    precision, recall, f1 = evaluate_recommendations(recommended_books, ground_truth_books)\n",
        "\n",
        "    print(f\"Evaluation for '{book_title}':\")\n",
        "    print(f\" Precision: {precision:.2f}\")\n",
        "    print(f\"Recall: {recall:.2f}\")\n",
        "    print(f\" F1-Score: {f1:.2f}\")\n",
        "\n",
        "    return precision, recall, f1\n",
        "\n",
        "\n",
        "evaluate_model_for_book(\"The Da Vinci Code\", df)"
      ]
    },
    {
      "cell_type": "code",
      "execution_count": 182,
      "id": "gT8mHsw7Le7A",
      "metadata": {
        "id": "gT8mHsw7Le7A"
      },
      "outputs": [],
      "source": [
        "import pickle\n",
        "\n",
        "# Save the Popularity-Based model\n",
        "with open('popularity_model.pkl', 'wb') as file:\n",
        "    pickle.dump(popular_books, file)\n",
        "\n",
        "# Save the Collaborative Filtering (KNN) model\n",
        "with open('knn_model.pkl', 'wb') as file:\n",
        "    pickle.dump(knn, file)\n",
        "\n",
        "# Save the Content-Based Filtering components (as a dictionary for easier loading)\n",
        "content_based_data = {\n",
        "    'tfidf_model': tfidf,\n",
        "    'book_similarity_matrix': book_similarity,\n",
        "    'book_index': book_index\n",
        "}\n",
        "with open('content_based_model.pkl', 'wb') as file:\n",
        "    pickle.dump(content_based_data, file)\n",
        "\n",
        "# with open('original_user_item_matrix.pkl', 'wb') as f:\n",
        "#     pickle.dump(user_item_matrix, f)\n",
        "\n",
        "with open('user_item_matrix.pkl', 'wb') as f:\n",
        "    pickle.dump(user_item_matrix, f)"
      ]
    },
    {
      "cell_type": "code",
      "execution_count": null,
      "id": "a19907d0",
      "metadata": {},
      "outputs": [],
      "source": []
    }
  ],
  "metadata": {
    "colab": {
      "collapsed_sections": [
        "s_9mqgZ5ia-N"
      ],
      "provenance": []
    },
    "kernelspec": {
      "display_name": "Python 3",
      "language": "python",
      "name": "python3"
    },
    "language_info": {
      "codemirror_mode": {
        "name": "ipython",
        "version": 3
      },
      "file_extension": ".py",
      "mimetype": "text/x-python",
      "name": "python",
      "nbconvert_exporter": "python",
      "pygments_lexer": "ipython3",
      "version": "3.12.4"
    }
  },
  "nbformat": 4,
  "nbformat_minor": 5
}
